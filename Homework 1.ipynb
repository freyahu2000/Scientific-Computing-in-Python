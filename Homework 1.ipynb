{
 "cells": [
  {
   "cell_type": "markdown",
   "metadata": {},
   "source": [
    "# Homework 1\n",
    "## Ziyan Hu"
   ]
  },
  {
   "cell_type": "code",
   "execution_count": null,
   "outputs": [],
   "source": [],
   "metadata": {
    "collapsed": false
   }
  },
  {
   "cell_type": "markdown",
   "metadata": {
    "tags": []
   },
   "source": [
    "### Question 1 Run the following codes:"
   ]
  },
  {
   "cell_type": "code",
   "execution_count": 1,
   "metadata": {
    "collapsed": false,
    "jupyter": {
     "outputs_hidden": false
    },
    "ExecuteTime": {
     "end_time": "2023-09-26T15:54:14.434376Z",
     "start_time": "2023-09-26T15:54:14.428754Z"
    }
   },
   "outputs": [
    {
     "name": "stdout",
     "output_type": "stream",
     "text": [
      "[[99], [99], [99]]\n",
      "[99, 0, 0]\n"
     ]
    }
   ],
   "source": [
    "# Create a list with each element pointing to the same list [0]\n",
    "a = [[0]] * 3\n",
    "a[0][0] = 99\n",
    "print(a)\n",
    "# Create a list with three zeros\n",
    "b = [0] * 3\n",
    "b[0] = 99\n",
    "print(b)"
   ]
  },
  {
   "cell_type": "markdown",
   "metadata": {},
   "source": [
    "You will see that all the elements in a are changed to [99], while only the first element in b is changed to 99.\n",
    "Please explain the underlying reason. Next, provide a solution to create a1, which looks the same as a but after running a1[0][0] = 99 only the first element in a1 is changed. Your codes to create a1 must be in one line. Hint: Use list comprehension."
   ]
  },
  {
   "cell_type": "markdown",
   "metadata": {},
   "source": [
    "#### Answer:\n",
    "The reason why all the elements change to [99] is because it creates the list using the expression a = [[0]]*3. It creates three references to the same inner list [0], so when we modify one of the element in [0], it will reflect on the all three elements of list a.\n",
    "\n"
   ]
  },
  {
   "cell_type": "code",
   "execution_count": 2,
   "metadata": {
    "collapsed": false,
    "jupyter": {
     "outputs_hidden": false
    },
    "ExecuteTime": {
     "end_time": "2023-09-26T15:54:14.439108Z",
     "start_time": "2023-09-26T15:54:14.434735Z"
    }
   },
   "outputs": [
    {
     "name": "stdout",
     "output_type": "stream",
     "text": [
      "[[99], [0], [0]]\n"
     ]
    }
   ],
   "source": [
    "a1 = [[0] for i in range(3)]\n",
    "a1[0][0] = 99\n",
    "print(a1)"
   ]
  },
  {
   "cell_type": "markdown",
   "metadata": {},
   "source": [
    "### Question 2  Run the following codes and explain the differences you observe."
   ]
  },
  {
   "cell_type": "code",
   "execution_count": 3,
   "metadata": {
    "collapsed": false,
    "jupyter": {
     "outputs_hidden": false
    },
    "ExecuteTime": {
     "end_time": "2023-09-26T15:54:14.482901Z",
     "start_time": "2023-09-26T15:54:14.441412Z"
    }
   },
   "outputs": [
    {
     "name": "stdout",
     "output_type": "stream",
     "text": [
      "[1, 2, 3, 4]\n",
      "[1, 2, 3, 4]\n",
      "[1, 2, 3, 4]\n",
      "[1, 2, 3]\n"
     ]
    }
   ],
   "source": [
    "#Case 1\n",
    "a = [1, 2, 3]\n",
    "b = a\n",
    "b += [4]\n",
    "print(b)\n",
    "print(a)\n",
    "# Case 2\n",
    "a = [1, 2, 3]\n",
    "b = a\n",
    "b = b + [4]\n",
    "print(b)\n",
    "print(a)"
   ]
  },
  {
   "cell_type": "markdown",
   "metadata": {
    "jp-MarkdownHeadingCollapsed": true,
    "tags": []
   },
   "source": [
    "### Answer:\n",
    "In Case 1 (b = a; b += [4]), both a and b refer to the same list object. So when modifying b by using +=, it actually modifies the original list a. Therefore, both b and a will contain [1, 2, 3, 4].\n",
    "\n",
    "In Case 2 (b = a; b = b + [4]), the + operator creates a new list by concatenating b and [4], and then assigns it to b. This means that b now refers to a new list object, while a still refers to the original list object. Therefore, b will be [1, 2, 3, 4], but a will remain [1, 2, 3]."
   ]
  },
  {
   "cell_type": "markdown",
   "metadata": {},
   "source": [
    "### Question 3\n",
    "Given a list of integers nums and an integer target, return indices of the two numbers that add up to target. You may assume that each input would have exactly one solution. You may not use the same element twice. You can return the two indices in any order.\n",
    "In this assignment, you can simply use nums = [11, 7, 15, 2] and target = 9, so the expected result of your codes should be [1, 3] or [3, 1]. However, please make sure your codes return the correct result for any valid nums and target, as we will test your codes with various valid nums and target.\n",
    "\n",
    "#### Answer\n"
   ]
  },
  {
   "cell_type": "code",
   "execution_count": 4,
   "metadata": {
    "collapsed": false,
    "jupyter": {
     "outputs_hidden": false
    },
    "ExecuteTime": {
     "end_time": "2023-09-26T15:54:14.483675Z",
     "start_time": "2023-09-26T15:54:14.452339Z"
    }
   },
   "outputs": [
    {
     "data": {
      "text/plain": "[1, 3]"
     },
     "execution_count": 4,
     "metadata": {},
     "output_type": "execute_result"
    }
   ],
   "source": [
    "# define the function\n",
    "def findIndices(nums,target):\n",
    "    for i in range(len(nums)):\n",
    "        for j in range(i+1,len(nums)):\n",
    "            if nums[i]+nums[j]==target:\n",
    "                return [i,j]\n",
    "            \n",
    "# test the example\n",
    "nums = [11,7,15,2]\n",
    "target = 9\n",
    "findIndices(nums,target)"
   ]
  },
  {
   "cell_type": "markdown",
   "metadata": {
    "tags": []
   },
   "source": [
    "### Question 4\n",
    "Convert a positive integer num < 1000 to a string of its English words representation, where the first letter of each word should be in upper case.\n",
    "In this assignment, you can simply use num = 123, so the expected result of your codes should be “One Hundred Twenty Three”. However, please make sure your codes return the correct result for any valid num, as we will test your codes with various valid num.\n",
    "\n",
    "#### Answer"
   ]
  },
  {
   "cell_type": "code",
   "execution_count": 5,
   "metadata": {
    "ExecuteTime": {
     "end_time": "2023-09-26T15:54:14.929009Z",
     "start_time": "2023-09-26T15:54:14.923421Z"
    }
   },
   "outputs": [
    {
     "name": "stdout",
     "output_type": "stream",
     "text": [
      "One Hundred Twenty Three\n"
     ]
    }
   ],
   "source": [
    "# define the function\n",
    "def numToWords(num):\n",
    "\n",
    "  # validate input\n",
    "  if not isinstance(num, int) or num < 0 or num >= 1000:\n",
    "    raise ValueError(\"Number must be between 0 and 999\")\n",
    "\n",
    "  words = [\"\", \"One\", \"Two\", \"Three\", \"Four\", \"Five\", \"Six\", \"Seven\", \"Eight\",\n",
    "           \"Nine\", \"Ten\", \"Eleven\", \"Twelve\", \"Thirteen\", \"Fourteen\", \"Fifteen\", \n",
    "           \"Sixteen\", \"Seventeen\", \"Eighteen\", \"Nineteen\"]\n",
    "\n",
    "  tens = [\"\", \"Ten\", \"Twenty\", \"Thirty\", \"Forty\", \"Fifty\", \"Sixty\", \n",
    "           \"Seventy\", \"Eighty\", \"Ninety\"]\n",
    "\n",
    "  string = \"\"\n",
    "\n",
    "  # Hundreds\n",
    "  if num >= 100:\n",
    "    hundred = num // 100\n",
    "    string += words[hundred] + \" Hundred \"\n",
    "    num %= 100\n",
    "\n",
    "  # Tens\n",
    "  if num >= 20:\n",
    "    ten = num // 10\n",
    "    string += tens[ten] + \" \" \n",
    "    num %= 10\n",
    "  elif num >= 10:\n",
    "    string += words[num] + \" \"\n",
    "    num = 0\n",
    "\n",
    "  # Ones \n",
    "  if num > 0:\n",
    "    string += words[num]\n",
    "\n",
    "  return string\n",
    "\n",
    "# test the example\n",
    "print(numToWords(123))"
   ]
  },
  {
   "cell_type": "markdown",
   "metadata": {
    "tags": []
   },
   "source": [
    "### Question 5\n",
    "Given two positive integers num1 and num2, return the sum of the two integers. You must not use the addition operator in Python directly on the two integers, so please implement the procedure by which we add up two integers by hand.\n",
    "In this assignment, you can simply use num1 = 199 and num2 = 4306, so the expected result of your codes should be 4505. However, please make sure your codes return the correct result for any valid num1 and num2, as we will test your codes with various valid num1 and num2.\n",
    "\n",
    "#### Answer"
   ]
  },
  {
   "cell_type": "code",
   "execution_count": 6,
   "metadata": {
    "collapsed": false,
    "jupyter": {
     "outputs_hidden": false
    },
    "ExecuteTime": {
     "end_time": "2023-09-26T15:54:15.848479Z",
     "start_time": "2023-09-26T15:54:15.817899Z"
    }
   },
   "outputs": [
    {
     "name": "stdout",
     "output_type": "stream",
     "text": [
      "4505\n"
     ]
    }
   ],
   "source": [
    "def integerSum(num1,num2):\n",
    "\n",
    "  # Iterate until there is no carry\n",
    "    while num2 != 0:\n",
    "        # Carry now contains common set bits of num1 and num2\n",
    "        carry = num1 & num2\n",
    "\n",
    "        # Sum of bits of num1 and num2 where at least one of the bits is not set\n",
    "        num1 = num1 ^ num2\n",
    "\n",
    "        # Carry is shifted by one so that adding it to num1 gives the required sum\n",
    "        num2 = carry << 1\n",
    "\n",
    "    return num1\n",
    "\n",
    "# Example usage:\n",
    "num1 = 199\n",
    "num2 = 4306\n",
    "result = integerSum(num1, num2)\n",
    "print(result)  # Should print 4505"
   ]
  }
 ],
 "metadata": {
  "kernelspec": {
   "display_name": "Python 3 (ipykernel)",
   "language": "python",
   "name": "python3"
  },
  "language_info": {
   "codemirror_mode": {
    "name": "ipython",
    "version": 3
   },
   "file_extension": ".py",
   "mimetype": "text/x-python",
   "name": "python",
   "nbconvert_exporter": "python",
   "pygments_lexer": "ipython3",
   "version": "3.9.13"
  }
 },
 "nbformat": 4,
 "nbformat_minor": 4
}
