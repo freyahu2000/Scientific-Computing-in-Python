{
 "cells": [
  {
   "cell_type": "markdown",
   "source": [
    "# Lec 8 - in class exercise\n",
    "## Ziyan Hu"
   ],
   "metadata": {
    "collapsed": false
   }
  },
  {
   "cell_type": "code",
   "execution_count": 5,
   "metadata": {
    "collapsed": true,
    "ExecuteTime": {
     "end_time": "2023-11-14T23:21:57.653016Z",
     "start_time": "2023-11-14T23:21:57.645843Z"
    }
   },
   "outputs": [
    {
     "data": {
      "text/plain": "[13, 10, 15, 12, 1, 14, 3, 0, 5, 2, 7, 4, 9, 6, 11, 8, 13, 10, 15, 12]"
     },
     "execution_count": 5,
     "metadata": {},
     "output_type": "execute_result"
    }
   ],
   "source": [
    "# Exercise: Write a function to generate random number using LC\n",
    "def lcg( a =9 , c =5 , m =16 , U0 =8 , nnum =500):\n",
    "    ans = [U0]\n",
    "    for _ in range(nnum):\n",
    "        ans.append((a * ans [ -1] + c ) % m)\n",
    "    return ans[1:]\n",
    "lcg()[:20]"
   ]
  },
  {
   "cell_type": "code",
   "execution_count": 8,
   "outputs": [
    {
     "data": {
      "text/plain": "[5, 6, 3, 2, 5, 6, 3, 2, 5, 6, 3, 2, 5, 6, 3, 2, 5, 6, 3, 2]"
     },
     "execution_count": 8,
     "metadata": {},
     "output_type": "execute_result"
    }
   ],
   "source": [
    "# Exercise: Let a = 7, c = 1, m = 10, U0 = 2. The LCG is\n",
    "# Ui = (7Ui−1 + 1) mod 10. What is the period for these settings?\n",
    "# What happens if U0 is set to 4 instead? Try with your developed\n",
    "# Python function.\n",
    "def lcg( a =7 , c =1 , m =10 , U0 =2 , nnum =500):\n",
    "    ans = [U0]\n",
    "    for _ in range(nnum):\n",
    "        ans.append((a * ans [ -1] + c ) % m)\n",
    "    return ans[1:]\n",
    "lcg()[:20]"
   ],
   "metadata": {
    "collapsed": false,
    "ExecuteTime": {
     "end_time": "2023-11-14T23:28:40.010910Z",
     "start_time": "2023-11-14T23:28:39.981166Z"
    }
   }
  },
  {
   "cell_type": "code",
   "execution_count": 9,
   "outputs": [
    {
     "data": {
      "text/plain": "[9, 4, 9, 4, 9, 4, 9, 4, 9, 4, 9, 4, 9, 4, 9, 4, 9, 4, 9, 4]"
     },
     "execution_count": 9,
     "metadata": {},
     "output_type": "execute_result"
    }
   ],
   "source": [
    "# U0 is set to 4 instead\n",
    "def lcg( a =7 , c =1 , m =10 , U0 = 4 , nnum =500):\n",
    "    ans = [U0]\n",
    "    for _ in range(nnum):\n",
    "        ans.append((a * ans [ -1] + c ) % m)\n",
    "    return ans[1:]\n",
    "lcg()[:20]"
   ],
   "metadata": {
    "collapsed": false,
    "ExecuteTime": {
     "end_time": "2023-11-14T23:29:25.415921Z",
     "start_time": "2023-11-14T23:29:25.386371Z"
    }
   }
  },
  {
   "cell_type": "code",
   "execution_count": 11,
   "outputs": [
    {
     "name": "stdout",
     "output_type": "stream",
     "text": [
      "[15, 16, 23, 27, 10, 26, 3, 22, 20, 6, 43, 32, 0, 1, 8, 12, 40, 11, 33, 7, 5, 36, 28, 17, 30, 31, 38, 42, 25, 41, 18, 37, 35, 21, 13, 2, 15, 16, 23, 27, 10, 26, 3, 22, 20, 6, 43, 32, 0, 1]\n"
     ]
    }
   ],
   "source": [
    "# Exercise: What about for m = 45 = 3 · 3 · 5?\n",
    "print(lcg(a=7, c=1, m=45, U0=2, nnum=50))"
   ],
   "metadata": {
    "collapsed": false,
    "ExecuteTime": {
     "end_time": "2023-11-14T23:33:09.380381Z",
     "start_time": "2023-11-14T23:33:09.367729Z"
    }
   }
  },
  {
   "cell_type": "code",
   "execution_count": 12,
   "outputs": [
    {
     "name": "stdout",
     "output_type": "stream",
     "text": [
      "[15, 10, 7, 2, 15, 10, 7, 2, 15, 10, 7, 2, 15, 10, 7, 2, 15, 10, 7, 2, 15, 10, 7, 2, 15, 10, 7, 2, 15, 10, 7, 2, 15, 10, 7, 2, 15, 10, 7, 2, 15, 10, 7, 2, 15, 10, 7, 2, 15, 10]\n"
     ]
    }
   ],
   "source": [
    "# Exercise: What about for m = 16 = 24?\n",
    "print(lcg(a=7, c=1, m=16, U0=2, nnum=50))"
   ],
   "metadata": {
    "collapsed": false,
    "ExecuteTime": {
     "end_time": "2023-11-14T23:33:43.129174Z",
     "start_time": "2023-11-14T23:33:43.125146Z"
    }
   }
  }
 ],
 "metadata": {
  "kernelspec": {
   "display_name": "Python 3",
   "language": "python",
   "name": "python3"
  },
  "language_info": {
   "codemirror_mode": {
    "name": "ipython",
    "version": 2
   },
   "file_extension": ".py",
   "mimetype": "text/x-python",
   "name": "python",
   "nbconvert_exporter": "python",
   "pygments_lexer": "ipython2",
   "version": "2.7.6"
  }
 },
 "nbformat": 4,
 "nbformat_minor": 0
}
