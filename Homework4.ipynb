{
 "cells": [
  {
   "cell_type": "markdown",
   "source": [
    "# Homework 4\n",
    "## Ziyan Hu"
   ],
   "metadata": {
    "collapsed": false
   }
  },
  {
   "cell_type": "markdown",
   "source": [
    "## Question 1\n",
    "1. Navigate to data.cityofnewyork.us (April 23, 2023). Click the export button to download\n",
    "the data as a .csv file. Hint: It should be downloaded with a name like\n",
    "2018 Central Park Squirrel Census - Squirrel Data.csv.\n",
    "a. Read in the file to the skeleton code .ipynb. For full credit, code the path argument\n",
    "in a way that shows you’ve created a unique folder for this assignment, and, that a\n",
    "special sub-folder separates the .ipynb from the .csv.\n",
    "b. This dataset has 30+ columns. That is a bit too much to keep track of in your\n",
    "head. Please create a new dataframe called “focused squirrel df”, that only has these\n",
    "twelve columns: [“X”, “Y”, “Unique Squirrel ID”, “Shift”, “Date”, “Age”, “Primary\n",
    "Fur Color”, “Highlight Fur Color”, “Above Ground Sighter Measurement”, “Kuks”,\n",
    "“Quaas”, “Tail flags”]. Are all rows in this new table complete? If not, how many\n",
    "rows have missing data?\n",
    "c. Lets focus on the “Unique Squirrel ID” column. Using this column, tell us the date\n",
    "(day, month) on which the most productive chronological sequence of squirrel sightings\n",
    "took place. How many squirrels were seen? Hint: Check the download link to read\n",
    "how it was constructed.\n",
    "d. Create a new dataframe with just the squirrels from that sequence. To answer if\n",
    "this survey might be ‘double counting’, please use .groupby([[...]])[“Unique Squirrel\n",
    "ID”].count() to answer how many squirrels had the same age, primary fur color, and\n",
    "secondary fur color. Do you think double counting took place?\n",
    "e. Kuks vs Quaas. Now we can answer the truly important question; which form of\n",
    "squirrel communication is more common. Use a print statement to display the number\n",
    "of observations of Kuks, and another for number of Quaas observations. Please use\n",
    "all the data in “focused squirrel df”. Finally, return the column name that was most\n",
    "common. Do so without typing the name out as a “string\""
   ],
   "metadata": {
    "collapsed": false
   }
  },
  {
   "cell_type": "code",
   "execution_count": 1,
   "outputs": [
    {
     "data": {
      "text/plain": "           X          Y Unique Squirrel ID Hectare Shift      Date  \\\n0 -73.956134  40.794082     37F-PM-1014-03     37F    PM  10142018   \n1 -73.968857  40.783783     21B-AM-1019-04     21B    AM  10192018   \n2 -73.974281  40.775534     11B-PM-1014-08     11B    PM  10142018   \n3 -73.959641  40.790313     32E-PM-1017-14     32E    PM  10172018   \n4 -73.970268  40.776213     13E-AM-1017-05     13E    AM  10172018   \n\n   Hectare Squirrel Number    Age Primary Fur Color Highlight Fur Color  ...  \\\n0                        3    NaN               NaN                 NaN  ...   \n1                        4    NaN               NaN                 NaN  ...   \n2                        8    NaN              Gray                 NaN  ...   \n3                       14  Adult              Gray                 NaN  ...   \n4                        5  Adult              Gray            Cinnamon  ...   \n\n    Kuks  Quaas  Moans Tail flags Tail twitches  Approaches  Indifferent  \\\n0  False  False  False      False         False       False        False   \n1  False  False  False      False         False       False        False   \n2  False  False  False      False         False       False        False   \n3  False  False  False      False         False       False        False   \n4  False  False  False      False         False       False        False   \n\n   Runs from  Other Interactions                                    Lat/Long  \n0      False                 NaN  POINT (-73.9561344937861 40.7940823884086)  \n1      False                 NaN  POINT (-73.9688574691102 40.7837825208444)  \n2      False                 NaN  POINT (-73.97428114848522 40.775533619083)  \n3       True                 NaN  POINT (-73.9596413903948 40.7903128889029)  \n4      False                 NaN  POINT (-73.9702676472613 40.7762126854894)  \n\n[5 rows x 31 columns]",
      "text/html": "<div>\n<style scoped>\n    .dataframe tbody tr th:only-of-type {\n        vertical-align: middle;\n    }\n\n    .dataframe tbody tr th {\n        vertical-align: top;\n    }\n\n    .dataframe thead th {\n        text-align: right;\n    }\n</style>\n<table border=\"1\" class=\"dataframe\">\n  <thead>\n    <tr style=\"text-align: right;\">\n      <th></th>\n      <th>X</th>\n      <th>Y</th>\n      <th>Unique Squirrel ID</th>\n      <th>Hectare</th>\n      <th>Shift</th>\n      <th>Date</th>\n      <th>Hectare Squirrel Number</th>\n      <th>Age</th>\n      <th>Primary Fur Color</th>\n      <th>Highlight Fur Color</th>\n      <th>...</th>\n      <th>Kuks</th>\n      <th>Quaas</th>\n      <th>Moans</th>\n      <th>Tail flags</th>\n      <th>Tail twitches</th>\n      <th>Approaches</th>\n      <th>Indifferent</th>\n      <th>Runs from</th>\n      <th>Other Interactions</th>\n      <th>Lat/Long</th>\n    </tr>\n  </thead>\n  <tbody>\n    <tr>\n      <th>0</th>\n      <td>-73.956134</td>\n      <td>40.794082</td>\n      <td>37F-PM-1014-03</td>\n      <td>37F</td>\n      <td>PM</td>\n      <td>10142018</td>\n      <td>3</td>\n      <td>NaN</td>\n      <td>NaN</td>\n      <td>NaN</td>\n      <td>...</td>\n      <td>False</td>\n      <td>False</td>\n      <td>False</td>\n      <td>False</td>\n      <td>False</td>\n      <td>False</td>\n      <td>False</td>\n      <td>False</td>\n      <td>NaN</td>\n      <td>POINT (-73.9561344937861 40.7940823884086)</td>\n    </tr>\n    <tr>\n      <th>1</th>\n      <td>-73.968857</td>\n      <td>40.783783</td>\n      <td>21B-AM-1019-04</td>\n      <td>21B</td>\n      <td>AM</td>\n      <td>10192018</td>\n      <td>4</td>\n      <td>NaN</td>\n      <td>NaN</td>\n      <td>NaN</td>\n      <td>...</td>\n      <td>False</td>\n      <td>False</td>\n      <td>False</td>\n      <td>False</td>\n      <td>False</td>\n      <td>False</td>\n      <td>False</td>\n      <td>False</td>\n      <td>NaN</td>\n      <td>POINT (-73.9688574691102 40.7837825208444)</td>\n    </tr>\n    <tr>\n      <th>2</th>\n      <td>-73.974281</td>\n      <td>40.775534</td>\n      <td>11B-PM-1014-08</td>\n      <td>11B</td>\n      <td>PM</td>\n      <td>10142018</td>\n      <td>8</td>\n      <td>NaN</td>\n      <td>Gray</td>\n      <td>NaN</td>\n      <td>...</td>\n      <td>False</td>\n      <td>False</td>\n      <td>False</td>\n      <td>False</td>\n      <td>False</td>\n      <td>False</td>\n      <td>False</td>\n      <td>False</td>\n      <td>NaN</td>\n      <td>POINT (-73.97428114848522 40.775533619083)</td>\n    </tr>\n    <tr>\n      <th>3</th>\n      <td>-73.959641</td>\n      <td>40.790313</td>\n      <td>32E-PM-1017-14</td>\n      <td>32E</td>\n      <td>PM</td>\n      <td>10172018</td>\n      <td>14</td>\n      <td>Adult</td>\n      <td>Gray</td>\n      <td>NaN</td>\n      <td>...</td>\n      <td>False</td>\n      <td>False</td>\n      <td>False</td>\n      <td>False</td>\n      <td>False</td>\n      <td>False</td>\n      <td>False</td>\n      <td>True</td>\n      <td>NaN</td>\n      <td>POINT (-73.9596413903948 40.7903128889029)</td>\n    </tr>\n    <tr>\n      <th>4</th>\n      <td>-73.970268</td>\n      <td>40.776213</td>\n      <td>13E-AM-1017-05</td>\n      <td>13E</td>\n      <td>AM</td>\n      <td>10172018</td>\n      <td>5</td>\n      <td>Adult</td>\n      <td>Gray</td>\n      <td>Cinnamon</td>\n      <td>...</td>\n      <td>False</td>\n      <td>False</td>\n      <td>False</td>\n      <td>False</td>\n      <td>False</td>\n      <td>False</td>\n      <td>False</td>\n      <td>False</td>\n      <td>NaN</td>\n      <td>POINT (-73.9702676472613 40.7762126854894)</td>\n    </tr>\n  </tbody>\n</table>\n<p>5 rows × 31 columns</p>\n</div>"
     },
     "execution_count": 1,
     "metadata": {},
     "output_type": "execute_result"
    }
   ],
   "source": [
    "# 1a. read the csv in a sub folder\n",
    "import pandas as pd\n",
    "import numpy as np\n",
    "path = \"data/2018_Central_Park_Squirrel_Census_-_Squirrel_Data_20231012.csv\"\n",
    "squirrel_data = pd.read_csv(path)\n",
    "squirrel_data.head()"
   ],
   "metadata": {
    "collapsed": false,
    "ExecuteTime": {
     "end_time": "2023-10-26T22:04:01.343136Z",
     "start_time": "2023-10-26T22:04:00.129587Z"
    }
   }
  },
  {
   "cell_type": "code",
   "execution_count": 93,
   "outputs": [
    {
     "data": {
      "text/plain": "X                                      0\nY                                      0\nUnique Squirrel ID                     0\nShift                                  0\nDate                                   0\nAge                                  121\nPrimary Fur Color                     55\nHighlight Fur Color                 1086\nAbove Ground Sighter Measurement     114\nKuks                                   0\nQuaas                                  0\nTail flags                             0\ndtype: int64"
     },
     "execution_count": 93,
     "metadata": {},
     "output_type": "execute_result"
    }
   ],
   "source": [
    "# 1b. create a new dataframe\n",
    "focused_squirrel_df = squirrel_data[['X', 'Y', 'Unique Squirrel ID', 'Shift', 'Date', 'Age', 'Primary Fur Color','Highlight Fur Color', 'Above Ground Sighter Measurement', 'Kuks','Quaas', 'Tail flags']]\n",
    "focused_squirrel_df.isnull().sum()"
   ],
   "metadata": {
    "collapsed": false,
    "ExecuteTime": {
     "end_time": "2023-10-15T04:13:17.655694Z",
     "start_time": "2023-10-15T04:13:17.645032Z"
    }
   }
  },
  {
   "cell_type": "markdown",
   "source": [
    "The rows in this table is not complete. From the above table, we can see that Age has 121 missing data, Primary Fun Color has 55, Highlight Fur Color has 1086, Above Ground Sighter Measurement has 114."
   ],
   "metadata": {
    "collapsed": false
   }
  },
  {
   "cell_type": "code",
   "execution_count": 94,
   "outputs": [
    {
     "data": {
      "text/plain": "('10/01', 614)"
     },
     "execution_count": 94,
     "metadata": {},
     "output_type": "execute_result"
    }
   ],
   "source": [
    "# 1c.\n",
    "# Extracting date and month from \"Unique Squirrel ID\"\n",
    "focused_squirrel_df = focused_squirrel_df.copy()\n",
    "focused_squirrel_df['Month'] = focused_squirrel_df['Unique Squirrel ID'].str.extract(r'-(\\d{2})\\d{2}-')\n",
    "focused_squirrel_df['Day'] = focused_squirrel_df['Unique Squirrel ID'].str.extract(r'-(\\d{2})$')\n",
    "# Combine the month and day columns into a single 'Date' column\n",
    "focused_squirrel_df['Extracted Date'] = focused_squirrel_df['Month'] + \"/\" + focused_squirrel_df['Day']\n",
    "# Group by the extracted date and count the number of sightings\n",
    "counts = focused_squirrel_df['Extracted Date'].value_counts()\n",
    "# Get the date with the highest number of sightings\n",
    "date = counts.idxmax()\n",
    "highest_count = counts.max()\n",
    "date, highest_count"
   ],
   "metadata": {
    "collapsed": false,
    "ExecuteTime": {
     "end_time": "2023-10-15T04:13:21.362273Z",
     "start_time": "2023-10-15T04:13:21.271108Z"
    }
   }
  },
  {
   "cell_type": "markdown",
   "source": [
    "The date on which the most productive chronological sequence of squirrel sightingstook place is 10/01 and there are 614 squirrels were seen."
   ],
   "metadata": {
    "collapsed": false
   }
  },
  {
   "cell_type": "code",
   "execution_count": 95,
   "outputs": [
    {
     "data": {
      "text/plain": "Age\n?              4\nAdult       2568\nJuvenile     330\nName: Unique Squirrel ID, dtype: int64"
     },
     "execution_count": 95,
     "metadata": {},
     "output_type": "execute_result"
    }
   ],
   "source": [
    "# 1d.\n",
    "# creare a new data frame\n",
    "squirrel = squirrel_data[['Unique Squirrel ID','Age','Primary Fur Color','Highlight Fur Color']]\n",
    "squirrel.groupby('Age')['Unique Squirrel ID'].count()"
   ],
   "metadata": {
    "collapsed": false,
    "ExecuteTime": {
     "end_time": "2023-10-15T04:13:27.346921Z",
     "start_time": "2023-10-15T04:13:27.335279Z"
    }
   }
  },
  {
   "cell_type": "code",
   "execution_count": 96,
   "outputs": [
    {
     "data": {
      "text/plain": "Primary Fur Color\nBlack        103\nCinnamon     392\nGray        2473\nName: Unique Squirrel ID, dtype: int64"
     },
     "execution_count": 96,
     "metadata": {},
     "output_type": "execute_result"
    }
   ],
   "source": [
    "# group by primary fur color\n",
    "squirrel.groupby('Primary Fur Color')['Unique Squirrel ID'].count()"
   ],
   "metadata": {
    "collapsed": false,
    "ExecuteTime": {
     "end_time": "2023-10-15T04:13:28.793037Z",
     "start_time": "2023-10-15T04:13:28.784989Z"
    }
   }
  },
  {
   "cell_type": "code",
   "execution_count": 97,
   "outputs": [
    {
     "data": {
      "text/plain": "Highlight Fur Color\nBlack                      34\nBlack, Cinnamon             9\nBlack, Cinnamon, White     32\nBlack, White               10\nCinnamon                  767\nCinnamon, White           268\nGray                      170\nGray, Black                 3\nGray, White                59\nWhite                     585\nName: Unique Squirrel ID, dtype: int64"
     },
     "execution_count": 97,
     "metadata": {},
     "output_type": "execute_result"
    }
   ],
   "source": [
    "# group by secondary fur color\n",
    "squirrel.groupby('Highlight Fur Color')['Unique Squirrel ID'].count()"
   ],
   "metadata": {
    "collapsed": false,
    "ExecuteTime": {
     "end_time": "2023-10-15T04:13:29.836600Z",
     "start_time": "2023-10-15T04:13:29.830020Z"
    }
   }
  },
  {
   "cell_type": "markdown",
   "source": [
    "There is double counting took place."
   ],
   "metadata": {
    "collapsed": false
   }
  },
  {
   "cell_type": "code",
   "execution_count": 98,
   "outputs": [
    {
     "name": "stdout",
     "output_type": "stream",
     "text": [
      "Number of observations of Kuks: 102\n",
      "Number of observations of Quaas: 50\n"
     ]
    },
    {
     "data": {
      "text/plain": "'Kuks'"
     },
     "execution_count": 98,
     "metadata": {},
     "output_type": "execute_result"
    }
   ],
   "source": [
    "# 1e.\n",
    "# Count and print the number of occurrences of \"Kuks\" and \"Quaas\"\n",
    "kuks_count = focused_squirrel_df['Kuks'].sum()\n",
    "quaas_count = focused_squirrel_df['Quaas'].sum()\n",
    "\n",
    "# Displaying the count of \"Kuks\" and \"Quaas\" using print statements\n",
    "print(f\"Number of observations of Kuks: {kuks_count}\")\n",
    "print(f\"Number of observations of Quaas: {quaas_count}\")\n",
    "\n",
    "# Determine which communication method is more common\n",
    "most_common_communication = \"Kuks\" if kuks_count > quaas_count else \"Quaas\"\n",
    "most_common_communication"
   ],
   "metadata": {
    "collapsed": false,
    "ExecuteTime": {
     "end_time": "2023-10-15T04:13:35.989819Z",
     "start_time": "2023-10-15T04:13:35.975831Z"
    }
   }
  },
  {
   "cell_type": "markdown",
   "source": [
    "## Question 2\n",
    "Quantitative squirrelnalysis:\n",
    "a. Three columns in this data have data that aren’t categorical. Which best fit that description?\n",
    "b. For the applicable set of observations, what was the average above ground sighter measurement? Compute two more averages, splitting the first into average in the “AM” hours, and average in the “PM” hours.\n",
    "c. Intro to ‘geo-coding’: The “X” and “Y” columns are associated with longitude and latitude. Create a new column which calculates the distance of each observation to [40.765, -73.954]. Euclidean distance is acceptable here, but in other geo-coding applications, the curvature of earth’s surface does matter. Which squirrel was seen farthest from our lecture hall?\n",
    "d. Compute the average squirrel position in the “AM” hours, then do the same for “PM” hours. Which direction does the population tend to migrate on the average day cycle? Lastly, list factors which might have biased this conclusion.\n",
    "e. Correlation analysis: Pandas includes some mathematical operations that can workon dataframes. Create a new dataframe that only has the columns “Y” and “Above Ground Sighter Measurement”. Use pandas.pydata.org/docs to calculate the correlation between how north in the park a squirrel was observed and the height at which it was seen in a tree. What direction is the association"
   ],
   "metadata": {
    "collapsed": false
   }
  },
  {
   "cell_type": "markdown",
   "source": [
    "1a.\n",
    "There are columns in this data have data that aren't categorical. That is 'X', 'Y' and 'Above Ground Sighter Measurement'. 'X' and 'Y' represent geographical coordinates, which are numerical and continuous. 'Above Ground Sighter Measurement' has numerical values."
   ],
   "metadata": {
    "collapsed": false
   }
  },
  {
   "cell_type": "code",
   "execution_count": 102,
   "outputs": [
    {
     "name": "stdout",
     "output_type": "stream",
     "text": [
      "the average above ground sighter measurements: 15.210592686002522\n",
      "the average above ground sighter measurements in the AM hours: 16.58254716981132\n",
      "the average above ground sighter measurements in the PM hours: 13.634146341463415\n"
     ]
    }
   ],
   "source": [
    "# 1b.\n",
    "# Convert \"Above Ground Sighter Measurement\" to numeric, setting errors='coerce' to handle non-numeric values\n",
    "focused_squirrel_df[\"Above Ground Sighter Measurement\"] = pd.to_numeric(focused_squirrel_df[\"Above Ground Sighter Measurement\"], errors='coerce')\n",
    "\n",
    "# Calculate the overall average above ground sighter measurement\n",
    "avg_measurement = focused_squirrel_df[\"Above Ground Sighter Measurement\"].mean()\n",
    "print(f\"the average above ground sighter measurements: {avg_measurement}\")\n",
    "\n",
    "# Calculate the average above ground sighter measurement for AM and PM shifts\n",
    "avg_measurement_am = focused_squirrel_df[focused_squirrel_df['Shift'] == 'AM']['Above Ground Sighter Measurement'].mean()\n",
    "avg_measurement_pm = focused_squirrel_df[focused_squirrel_df['Shift'] == 'PM']['Above Ground Sighter Measurement'].mean()\n",
    "print(f\"the average above ground sighter measurements in the AM hours: {avg_measurement_am}\")\n",
    "print(f\"the average above ground sighter measurements in the PM hours: {avg_measurement_pm}\")"
   ],
   "metadata": {
    "collapsed": false,
    "ExecuteTime": {
     "end_time": "2023-10-15T04:15:13.178235Z",
     "start_time": "2023-10-15T04:15:13.174720Z"
    }
   }
  },
  {
   "cell_type": "code",
   "execution_count": 103,
   "outputs": [
    {
     "name": "stdout",
     "output_type": "stream",
     "text": [
      "The squirrel with ID 42A-AM-1019-01 has the max distance from our lecture hall, which is 13.634146341463415\n"
     ]
    }
   ],
   "source": [
    "# 1c.\n",
    "# coordinates of the reference point [latitude, longitude]\n",
    "lecture_hall = [40.765, -73.954]\n",
    "\n",
    "# calculate the distance and create a new column\n",
    "focused_squirrel_df = focused_squirrel_df.copy()\n",
    "focused_squirrel_df['Distance'] = np.sqrt(\n",
    "    (focused_squirrel_df['X']-lecture_hall[0])**2 +\n",
    "    (focused_squirrel_df['Y']-lecture_hall[1])**2\n",
    ")\n",
    "\n",
    "# find the squirrel that was seen farthest from the reference point\n",
    "max_distance = focused_squirrel_df['Distance'].max()\n",
    "squirrel_id = focused_squirrel_df.loc[focused_squirrel_df['Distance'].idxmax(), 'Unique Squirrel ID']\n",
    "print(f\"The squirrel with ID {squirrel_id} has the max distance from our lecture hall, which is {avg_measurement_pm}\")"
   ],
   "metadata": {
    "collapsed": false,
    "ExecuteTime": {
     "end_time": "2023-10-15T04:15:15.908155Z",
     "start_time": "2023-10-15T04:15:15.900459Z"
    }
   }
  },
  {
   "cell_type": "code",
   "execution_count": 104,
   "outputs": [
    {
     "data": {
      "text/plain": "([-73.96750477893433, 40.78051006555636],\n [-73.96692591313666, 40.78112862780465])"
     },
     "execution_count": 104,
     "metadata": {},
     "output_type": "execute_result"
    }
   ],
   "source": [
    "# 1d.\n",
    "# compute the average position for squirrels in AM and PM\n",
    "avg_position_am = [focused_squirrel_df[focused_squirrel_df['Shift'] == 'AM']['X'].mean(),\n",
    "                      focused_squirrel_df[focused_squirrel_df['Shift'] == 'AM']['Y'].mean()]\n",
    "avg_position_pm = [focused_squirrel_df[focused_squirrel_df['Shift'] == 'PM']['X'].mean(),\n",
    "                   focused_squirrel_df[focused_squirrel_df['Shift'] == 'PM']['Y'].mean()]\n",
    "(avg_position_am,avg_position_pm)"
   ],
   "metadata": {
    "collapsed": false,
    "ExecuteTime": {
     "end_time": "2023-10-15T04:15:17.022614Z",
     "start_time": "2023-10-15T04:15:17.002085Z"
    }
   }
  },
  {
   "cell_type": "markdown",
   "source": [
    "Squirrels tend to move northeast from AM to PM, as the latitude increases and the longitude increases (becomes less negative). The factors that affect the migration might be food resources, weather conditions, human activity."
   ],
   "metadata": {
    "collapsed": false
   }
  },
  {
   "cell_type": "code",
   "execution_count": 105,
   "outputs": [
    {
     "data": {
      "text/plain": "0.06254168873204949"
     },
     "execution_count": 105,
     "metadata": {},
     "output_type": "execute_result"
    }
   ],
   "source": [
    "# 1e.\n",
    "# create a new data frame that only contain 2 columns\n",
    "df = focused_squirrel_df[['Y','Above Ground Sighter Measurement']].copy()\n",
    "# Ensure \"Above Ground Sighter Measurement\" is numeric\n",
    "df[\"Above Ground Sighter Measurement\"] = pd.to_numeric(df[\"Above Ground Sighter Measurement\"], errors='coerce')\n",
    "# calculate the correlation between Y and Above Ground Sighter Measurement\n",
    "correlation = df[\"Y\"].corr(df[\"Above Ground Sighter Measurement\"])\n",
    "correlation"
   ],
   "metadata": {
    "collapsed": false,
    "ExecuteTime": {
     "end_time": "2023-10-15T04:15:19.521992Z",
     "start_time": "2023-10-15T04:15:19.499742Z"
    }
   }
  },
  {
   "cell_type": "markdown",
   "source": [
    "A correlation of 0.063 indicates a weak positive association between the latitude at which a squirrel is observed (how far north in the park) and the height at which it was seen in a tree. This suggests that, to a very small degree, as one variable increases, the other tends to increase as well."
   ],
   "metadata": {
    "collapsed": false
   }
  }
 ],
 "metadata": {
  "kernelspec": {
   "display_name": "Python 3",
   "language": "python",
   "name": "python3"
  },
  "language_info": {
   "codemirror_mode": {
    "name": "ipython",
    "version": 2
   },
   "file_extension": ".py",
   "mimetype": "text/x-python",
   "name": "python",
   "nbconvert_exporter": "python",
   "pygments_lexer": "ipython2",
   "version": "2.7.6"
  }
 },
 "nbformat": 4,
 "nbformat_minor": 0
}
