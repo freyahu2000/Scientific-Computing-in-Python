{
 "cells": [
  {
   "cell_type": "markdown",
   "source": [
    "# Homework9\n",
    "## Ziyan Hu"
   ],
   "metadata": {
    "collapsed": false
   }
  },
  {
   "cell_type": "code",
   "execution_count": 45,
   "outputs": [],
   "source": [
    "import numpy as np\n",
    "from scipy.stats import gamma\n",
    "from matplotlib import pyplot as plt"
   ],
   "metadata": {
    "collapsed": false,
    "ExecuteTime": {
     "end_time": "2023-11-28T00:27:36.973812Z",
     "start_time": "2023-11-28T00:27:36.918820Z"
    }
   }
  },
  {
   "cell_type": "markdown",
   "source": [
    "## Q1"
   ],
   "metadata": {
    "collapsed": false
   }
  },
  {
   "cell_type": "code",
   "execution_count": 46,
   "metadata": {
    "collapsed": true,
    "ExecuteTime": {
     "end_time": "2023-11-28T00:27:36.977006Z",
     "start_time": "2023-11-28T00:27:36.924972Z"
    }
   },
   "outputs": [
    {
     "name": "stdout",
     "output_type": "stream",
     "text": [
      "0.7467176330027233\n",
      "0.006190943805875568\n"
     ]
    }
   ],
   "source": [
    "# 1.1\n",
    "# define a function of monte carlo estimation\n",
    "def mc_est(N):\n",
    "    x = np.random.uniform(0,1,size=N)\n",
    "    return np.mean(np.exp(-x**2))\n",
    "\n",
    "# call the funciton with 1000 randomly generated numbers\n",
    "means = [mc_est(1000) for i in range(100)]\n",
    "print(np.mean(means))\n",
    "print(np.std(means))"
   ]
  },
  {
   "cell_type": "code",
   "execution_count": 47,
   "outputs": [
    {
     "name": "stdout",
     "output_type": "stream",
     "text": [
      "1.4935718293941544\n",
      "0.0028273584093560906\n"
     ]
    }
   ],
   "source": [
    "# 1.2\n",
    "# Antithetic Variable\n",
    "def av_est(N):\n",
    "    x = np.random.uniform(0,1,size=N//2)\n",
    "    x_av = 1 - x\n",
    "    return np.mean(np.exp(-x**2) + np.exp(-x_av**2))\n",
    "\n",
    "# call the funciton with 1000 randomly generated numbers\n",
    "av_means = [av_est(1000) for i in range(100)]\n",
    "print(np.mean(av_means))\n",
    "print(np.std(av_means))"
   ],
   "metadata": {
    "collapsed": false,
    "ExecuteTime": {
     "end_time": "2023-11-28T00:27:36.978521Z",
     "start_time": "2023-11-28T00:27:36.940887Z"
    }
   }
  },
  {
   "cell_type": "markdown",
   "source": [
    "## Q2"
   ],
   "metadata": {
    "collapsed": false
   }
  },
  {
   "cell_type": "code",
   "execution_count": 48,
   "outputs": [
    {
     "name": "stdout",
     "output_type": "stream",
     "text": [
      "-0.9837065374832408\n",
      "-0.9214337748865353\n"
     ]
    }
   ],
   "source": [
    "# 2.1\n",
    "# generating uniform random numbers\n",
    "N = 1000\n",
    "u = np.random.uniform(0, 1, N)\n",
    "g_u = np.sqrt(1 - u**2)\n",
    "# Computing the correlation coefficients\n",
    "rho_u2 = np.corrcoef(g_u, u**2)[0, 1]\n",
    "rho_u = np.corrcoef(g_u, u)[0, 1]\n",
    "\n",
    "print(rho_u2)\n",
    "print(rho_u)"
   ],
   "metadata": {
    "collapsed": false,
    "ExecuteTime": {
     "end_time": "2023-11-28T00:27:36.987763Z",
     "start_time": "2023-11-28T00:27:36.954051Z"
    }
   }
  },
  {
   "cell_type": "markdown",
   "source": [
    "From above we can see that it is better to use $U^2$ rather than $U$ as the control variable, because the correlation of using $U^2$ is greater."
   ],
   "metadata": {
    "collapsed": false
   }
  },
  {
   "cell_type": "code",
   "execution_count": 49,
   "outputs": [
    {
     "name": "stdout",
     "output_type": "stream",
     "text": [
      "0.9484051851424722\n",
      "0.016827711378438977\n"
     ]
    }
   ],
   "source": [
    "# 2.2\n",
    "# Estimate with u2 control variate\n",
    "def est_u2(N):\n",
    "    u = np.random.uniform(0,1,size=N)\n",
    "    u2 = u**2\n",
    "    g = np.sqrt(1-u2)\n",
    "    return np.mean(g) + rho_u2*(np.mean(u2) - 0.5)\n",
    "\n",
    "u2_means = [est_u2(1000) for i in range(100)]\n",
    "print(np.mean(u2_means))\n",
    "print(np.std(u2_means))"
   ],
   "metadata": {
    "collapsed": false,
    "ExecuteTime": {
     "end_time": "2023-11-28T00:27:36.989323Z",
     "start_time": "2023-11-28T00:27:36.971450Z"
    }
   }
  },
  {
   "cell_type": "code",
   "execution_count": 50,
   "outputs": [
    {
     "name": "stdout",
     "output_type": "stream",
     "text": [
      "0.7857955715414505\n",
      "0.01634345500998245\n"
     ]
    }
   ],
   "source": [
    "# 2.3\n",
    "# Estimate with u control variate\n",
    "def est_u(N):\n",
    "    u = np.random.uniform(0,1,size=N)\n",
    "    g = np.sqrt(1-u**2)\n",
    "    return np.mean(g) + rho_u*(np.mean(u) - 0.5)\n",
    "\n",
    "u_means = [est_u(1000) for i in range(100)]\n",
    "print(np.mean(u_means))\n",
    "print(np.std(u_means))"
   ],
   "metadata": {
    "collapsed": false,
    "ExecuteTime": {
     "end_time": "2023-11-28T00:27:37.085086Z",
     "start_time": "2023-11-28T00:27:36.988707Z"
    }
   }
  },
  {
   "cell_type": "markdown",
   "source": [
    "## Q3"
   ],
   "metadata": {
    "collapsed": false
   }
  },
  {
   "cell_type": "code",
   "execution_count": 51,
   "outputs": [
    {
     "name": "stdout",
     "output_type": "stream",
     "text": [
      "[2.46128909e-01 3.42771820e-02 6.02681346e-01 8.03900722e-01\n",
      " 5.62718400e-01 2.34876215e+00 1.28167259e+00 2.49577562e-01\n",
      " 9.89844021e-01 2.96840826e-04]\n"
     ]
    }
   ],
   "source": [
    "# 3.\n",
    "# generating samples from the Exponential-Gamma mixture distribution\n",
    "gam_samp = gamma.rvs(a=4, scale=0.5, size=1000)\n",
    "exp_samp = np.random.exponential(1/gam_samp)\n",
    "\n",
    "# displaying the first 10 samples from the exponential distribution\n",
    "print(exp_samp[:10])"
   ],
   "metadata": {
    "collapsed": false,
    "ExecuteTime": {
     "end_time": "2023-11-28T00:27:37.086303Z",
     "start_time": "2023-11-28T00:27:37.007291Z"
    }
   }
  },
  {
   "cell_type": "markdown",
   "source": [
    "## Q4"
   ],
   "metadata": {
    "collapsed": false
   }
  },
  {
   "cell_type": "code",
   "execution_count": 52,
   "outputs": [
    {
     "name": "stdout",
     "output_type": "stream",
     "text": [
      "Constant c0: 0.12163499773206012\n"
     ]
    }
   ],
   "source": [
    "# 4.1\n",
    "# integral to estimate\n",
    "def f(x):\n",
    "    return x**4 + np.exp(-x**2)\n",
    "\n",
    "# use MC integration between bounds\n",
    "N = 100000\n",
    "x = np.random.uniform(-1, 2, size=N)\n",
    "mc_int = np.mean(f(x)) * (2 - (-1))\n",
    "\n",
    "# compute c0\n",
    "c0 = 1 / (mc_int + 1e-15)\n",
    "\n",
    "print(\"Constant c0:\", c0)"
   ],
   "metadata": {
    "collapsed": false,
    "ExecuteTime": {
     "end_time": "2023-11-28T00:27:37.087810Z",
     "start_time": "2023-11-28T00:27:37.015189Z"
    }
   }
  },
  {
   "cell_type": "code",
   "execution_count": 53,
   "outputs": [
    {
     "name": "stdout",
     "output_type": "stream",
     "text": [
      "First 10 random samples:\n",
      "[ 1.9121244   1.69110977  1.51901119  0.51562749  1.58816182  1.85574516\n",
      " -0.90068842  1.48099538  1.13097053 -0.2966492 ]\n"
     ]
    }
   ],
   "source": [
    "# 4.2\n",
    "# define density function\n",
    "def density(x):\n",
    "    return c0*(x**4 + np.exp(-x**2))\n",
    "N = 1000\n",
    "# draw uniform samples on (-1, 2)\n",
    "samp = np.random.uniform(-1,2,size=N)\n",
    "# accept samples based on density ratio\n",
    "accept = (density(samp) > np.random.uniform(size=N)) & (samp>-1) & (samp<2)\n",
    "\n",
    "print(\"First 10 random samples:\")\n",
    "print(samp[accept][:10])"
   ],
   "metadata": {
    "collapsed": false,
    "ExecuteTime": {
     "end_time": "2023-11-28T00:27:37.088309Z",
     "start_time": "2023-11-28T00:27:37.049866Z"
    }
   }
  },
  {
   "cell_type": "code",
   "execution_count": 54,
   "outputs": [
    {
     "data": {
      "text/plain": "<Figure size 640x480 with 1 Axes>",
      "image/png": "[encoded data removed]"
     },
     "metadata": {},
     "output_type": "display_data"
    }
   ],
   "source": [
    "# 4.3\n",
    "# plot histogram of samples\n",
    "count, bins, ignored = plt.hist(samp[accept], 30, density=True)\n",
    "# plot actual density function\n",
    "x = np.linspace(-1, 2, 100)\n",
    "plt.plot(x, density(x))\n",
    "plt.legend(['Simulated','Actual'])\n",
    "plt.xlim(-1,2)\n",
    "plt.xlabel('X')\n",
    "plt.ylabel('Density')\n",
    "plt.title('Simulated vs Actual Density')\n",
    "plt.show()"
   ],
   "metadata": {
    "collapsed": false,
    "ExecuteTime": {
     "end_time": "2023-11-28T00:27:37.582905Z",
     "start_time": "2023-11-28T00:27:37.105729Z"
    }
   }
  }
 ],
 "metadata": {
  "kernelspec": {
   "display_name": "Python 3",
   "language": "python",
   "name": "python3"
  },
  "language_info": {
   "codemirror_mode": {
    "name": "ipython",
    "version": 2
   },
   "file_extension": ".py",
   "mimetype": "text/x-python",
   "name": "python",
   "nbconvert_exporter": "python",
   "pygments_lexer": "ipython2",
   "version": "2.7.6"
  }
 },
 "nbformat": 4,
 "nbformat_minor": 0
}
