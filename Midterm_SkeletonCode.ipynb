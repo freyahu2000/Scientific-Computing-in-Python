{
 "cells": [
  {
   "cell_type": "markdown",
   "id": "f18bfbde-9b60-42be-ad3b-badf5947015c",
   "metadata": {},
   "source": [
    "# Midterm\n",
    "## Ziyan Hu"
   ]
  },
  {
   "cell_type": "code",
   "execution_count": 153,
   "id": "713fbac3-1c81-486a-98b3-4b71b80db774",
   "metadata": {
    "ExecuteTime": {
     "end_time": "2023-10-24T23:43:13.872709Z",
     "start_time": "2023-10-24T23:43:13.779127Z"
    }
   },
   "outputs": [],
   "source": [
    "import numpy as np\n",
    "import pandas as pd"
   ]
  },
  {
   "cell_type": "markdown",
   "id": "e1532344-fd9c-48cf-a737-5f9540d8ae70",
   "metadata": {},
   "source": [
    "## Problem 1"
   ]
  },
  {
   "cell_type": "code",
   "execution_count": 154,
   "id": "1accd46f-1098-44a5-9442-99bef3d50456",
   "metadata": {
    "ExecuteTime": {
     "end_time": "2023-10-24T23:43:13.874927Z",
     "start_time": "2023-10-24T23:43:13.783898Z"
    }
   },
   "outputs": [],
   "source": [
    "def Fibonacci(n):\n",
    "\n",
    "    # define a initial fibonacci list with first two digits 0 and 1\n",
    "    fibonacci_list = [0,1]\n",
    "\n",
    "    if n <= 0:\n",
    "        print(\"Incorrect input\")\n",
    "\n",
    "    # return the first element if n=1\n",
    "    if n == 1:\n",
    "        return fibonacci_list[0]\n",
    "\n",
    "    # return the last element in the list\n",
    "    if n > 1:\n",
    "        # use for loop to add new element in fibonacci list\n",
    "        for i in range(n-2):\n",
    "\n",
    "            # add the last two digits\n",
    "            new_num = fibonacci_list[-1] + fibonacci_list[-2]\n",
    "\n",
    "            # append new sum to the list\n",
    "            fibonacci_list.append(new_num)\n",
    "\n",
    "    return fibonacci_list[-1]"
   ]
  },
  {
   "cell_type": "code",
   "execution_count": 155,
   "id": "d28ebb69-192f-4ee1-b599-6a920a6b5403",
   "metadata": {
    "ExecuteTime": {
     "end_time": "2023-10-24T23:43:13.875715Z",
     "start_time": "2023-10-24T23:43:13.792176Z"
    }
   },
   "outputs": [
    {
     "data": {
      "text/plain": "4181"
     },
     "execution_count": 155,
     "metadata": {},
     "output_type": "execute_result"
    }
   ],
   "source": [
    "# Calculate and present the 20th Fibonacci number\n",
    "Fibonacci(20)"
   ]
  },
  {
   "cell_type": "markdown",
   "id": "8d5eb368-4c1b-45ac-b5b1-a9d8a0e22903",
   "metadata": {},
   "source": [
    "## Problem 2\n",
    "\n",
    "### (a)"
   ]
  },
  {
   "cell_type": "code",
   "execution_count": 156,
   "id": "3f2367ff-2e54-4daa-9ceb-7944cd2d8a2f",
   "metadata": {
    "ExecuteTime": {
     "end_time": "2023-10-24T23:43:13.875914Z",
     "start_time": "2023-10-24T23:43:13.798046Z"
    }
   },
   "outputs": [
    {
     "ename": "IndentationError",
     "evalue": "expected an indented block (1341104540.py, line 10)",
     "output_type": "error",
     "traceback": [
      "\u001B[0;36m  File \u001B[0;32m\"/var/folders/1z/p270y46s7hs6c18v1gp211xh0000gn/T/ipykernel_81928/1341104540.py\"\u001B[0;36m, line \u001B[0;32m10\u001B[0m\n\u001B[0;31m    while temp:\u001B[0m\n\u001B[0m    ^\u001B[0m\n\u001B[0;31mIndentationError\u001B[0m\u001B[0;31m:\u001B[0m expected an indented block\n"
     ]
    }
   ],
   "source": [
    "def Dec2Bin(dec):\n",
    "    temp, result = [], ''\n",
    "\n",
    "    n = dec%2\n",
    "\n",
    "    while dec:\n",
    "\n",
    "\n",
    "        \n",
    "    while temp: \n",
    "\n",
    "    return result"
   ]
  },
  {
   "cell_type": "code",
   "execution_count": null,
   "id": "52c19597-a949-45ee-aefa-ce22757fec1a",
   "metadata": {
    "ExecuteTime": {
     "start_time": "2023-10-24T23:43:13.806507Z"
    }
   },
   "outputs": [],
   "source": [
    "# Convert 37 into its binary number using your developed function\n",
    "Dec2Bin(37)\n"
   ]
  },
  {
   "cell_type": "markdown",
   "id": "1bfec2ab-c9a4-4e00-9d28-8c28f794e6f9",
   "metadata": {},
   "source": [
    "### (b)"
   ]
  },
  {
   "cell_type": "code",
   "execution_count": null,
   "id": "57bc0d70-6dce-4a16-a523-e3d7d4097596",
   "metadata": {
    "ExecuteTime": {
     "start_time": "2023-10-24T23:43:13.809213Z"
    }
   },
   "outputs": [],
   "source": [
    "def Bin2Dec(bin_num):\n",
    "    binary_power, dec = 0, 0\n",
    "    \n",
    "    ########################################\n",
    "    # Please complete the Bin2Dec function #\n",
    "    ########################################\n",
    "        \n",
    "    return dec"
   ]
  },
  {
   "cell_type": "code",
   "execution_count": null,
   "id": "227cad8d-ffd3-4625-8810-6cbb6b408ff6",
   "metadata": {
    "ExecuteTime": {
     "start_time": "2023-10-24T23:43:13.813038Z"
    }
   },
   "outputs": [],
   "source": [
    "# Convert '100110010' into its decimal number using your developed function"
   ]
  },
  {
   "cell_type": "markdown",
   "id": "3f400cb1-e83a-4c63-9a28-e099196da189",
   "metadata": {},
   "source": [
    "## Problem 3"
   ]
  },
  {
   "cell_type": "code",
   "execution_count": null,
   "id": "80d3078d-6db5-476a-80d6-54caa4af515a",
   "metadata": {
    "ExecuteTime": {
     "start_time": "2023-10-24T23:43:13.815790Z"
    }
   },
   "outputs": [],
   "source": [
    "def tossing(total_n, prob):\n",
    "    reference = np.array(['H', 'H', 'H', 'T', 'T', 'T'])\n",
    "\n",
    "    # set a seed\n",
    "    #np.random.seed(0)\n",
    "\n",
    "    # use np.random.choice generate 1000 times coins toss\n",
    "    coin_toss = np.random.choice([\"H\",\"T\"],size=1000,replace=True,p=[prob,1-prob])\n",
    "\n",
    "    # create a for-loop to calculate the total counts of exact patterns\n",
    "    count = 0\n",
    "    for i in range(total_n-5):\n",
    "        list = coin_toss[i:i+6]\n",
    "        if np.array_equal(reference,list):\n",
    "            count += 1\n",
    "    return count\n",
    "\n",
    "def tossing_expectation(MC, prob):\n",
    "    counts = []\n",
    "    # use np.random.choice generate 1000 times coins toss, with p=0.4 showing H\n",
    "    coin_toss = np.random.choice([\"H\",\"T\"],size=1000,replace=True,p=[prob,1-prob])\n",
    "\n",
    "    # use for loop to calculate the counts\n",
    "    for i in range(MC-1):\n",
    "        if coin_toss[i] == \"H\":\n",
    "            counts.append(1)\n",
    "        else:\n",
    "            counts.append(0)\n",
    "\n",
    "    # calculate the expectation\n",
    "    count_expectation = sum(counts)\n",
    "    return count_expectation"
   ]
  },
  {
   "cell_type": "code",
   "execution_count": null,
   "id": "6c33a187-3424-4b47-890e-8f3e5b7d38b9",
   "metadata": {
    "ExecuteTime": {
     "start_time": "2023-10-24T23:43:13.817262Z"
    }
   },
   "outputs": [],
   "source": [
    "# Given a fair coin, how many times would you expect to see the pattern HHHTTT (3 H’s 3 T’s) in 1,000 coin tosses?\n",
    "print(tossing(1000,0.5))\n",
    "# Also, report the expectation if the coin is not fair, with p = 0.4 showing H.\n",
    "print(tossing_expectation(1000,0.4))"
   ]
  },
  {
   "cell_type": "markdown",
   "id": "88ddff2a-5dce-407d-8acd-ff441de40251",
   "metadata": {
    "tags": []
   },
   "source": [
    "## Problem 4\n",
    "\n",
    "Please complete the problem from scratch."
   ]
  },
  {
   "cell_type": "code",
   "execution_count": null,
   "outputs": [],
   "source": [
    "# read the data\n",
    "path = \"500_Person_Gender_Height_Weight.csv\"\n",
    "data = pd.read_csv(path)\n",
    "\n",
    "# 4a. show first 10 rows\n",
    "data.head(10)"
   ],
   "metadata": {
    "collapsed": false,
    "ExecuteTime": {
     "start_time": "2023-10-24T23:43:13.819106Z"
    }
   }
  },
  {
   "cell_type": "code",
   "execution_count": null,
   "outputs": [],
   "source": [
    "# 4b.\n",
    "# Report mean, standard deviation, minimum, maximum, 25th percentile, median, 75th percentile of ‘Height’.\n",
    "height_mean = data[\"Height\"].mean()\n",
    "height_sd = data[\"Height\"].std()\n",
    "height_min = data[\"Height\"].min()\n",
    "height_max = data[\"Height\"].max()\n",
    "height_median = data[\"Height\"].median()\n",
    "height_25qt = data[\"Height\"].quantile(0.25)\n",
    "height_75qt = data[\"Height\"].quantile(0.75)\n",
    "print(f\"Mean:{height_mean}, \\nstandard deviation:{height_sd}\\nminimum:{height_min}\\nmaximum:{height_max}\\nmedian:{height_median}\\n25th percentile:{height_25qt}\\n75th percentile:{height_75qt}\")"
   ],
   "metadata": {
    "collapsed": false,
    "ExecuteTime": {
     "start_time": "2023-10-24T23:43:13.822697Z"
    }
   }
  },
  {
   "cell_type": "code",
   "execution_count": null,
   "outputs": [],
   "source": [
    "# 4c. Report mean, standard deviation, minimum, maximum, 25th percentile, median, 75th percentile of ‘Weight’.\n",
    "weight_mean = data[\"Weight\"].mean()\n",
    "weight_sd = data[\"Weight\"].std()\n",
    "weight_min = data[\"Weight\"].min()\n",
    "weight_max = data[\"Weight\"].max()\n",
    "weight_median = data[\"Weight\"].median()\n",
    "weight_25qt = data[\"Weight\"].quantile(0.25)\n",
    "weight_75qt = data[\"Weight\"].quantile(0.75)\n",
    "print(f\"Mean:{weight_mean}, \\nstandard deviation:{weight_sd}\\nminimum:{weight_min}\\nmaximum:{weight_max}\\nmedian:{weight_median}\\n25th percentile:{weight_25qt}\\n75th percentile:{weight_75qt}\")"
   ],
   "metadata": {
    "collapsed": false,
    "ExecuteTime": {
     "start_time": "2023-10-24T23:43:13.825986Z"
    }
   }
  },
  {
   "cell_type": "code",
   "execution_count": null,
   "outputs": [],
   "source": [
    "# 4d.\n",
    "data[\"BMI\"] = round(data[\"Weight\"]*10000/(data[\"Height\"]**2),1)\n",
    "print(data[\"BMI\"][0:5])"
   ],
   "metadata": {
    "collapsed": false,
    "ExecuteTime": {
     "start_time": "2023-10-24T23:43:13.828245Z"
    }
   }
  },
  {
   "cell_type": "code",
   "execution_count": null,
   "outputs": [],
   "source": [
    "# 4e.\n",
    "underweight= data.query('BMI < 18.5')\n",
    "normal = data.query('18.5 < BMI < 25')\n",
    "overweight= data.query('25 < BMI < 30')\n",
    "obese = data.query('BMI >30')\n",
    "\n",
    "um =underweight[underweight[\"Gender\"] == \"Male\"].shape[0]\n",
    "uf = underweight[underweight[\"Gender\"] == \"Female\"].shape[0]\n",
    "nm = normal[normal[\"Gender\"] == \"Male\"].shape[0]\n",
    "nf = normal[normal[\"Gender\"] == \"Female\"].shape[0]\n",
    "om = overweight[overweight[\"Gender\"] == \"Male\"].shape[0]\n",
    "of = overweight[overweight[\"Gender\"] == \"Female\"].shape[0]\n",
    "obm = obese[obese[\"Gender\"] == \"Male\"].shape[0]\n",
    "obf = obese[obese[\"Gender\"] == \"Female\"].shape[0]\n",
    "(um,uf,nm,nf,om,of,obm,obf)"
   ],
   "metadata": {
    "collapsed": false,
    "ExecuteTime": {
     "start_time": "2023-10-24T23:43:13.829111Z"
    }
   }
  },
  {
   "cell_type": "markdown",
   "source": [
    "There are 21 underweight males, 13 underweight females, 26 normal weight males, 37 normal weight females, 31 obese males, 37 obese females, 164 obese males and 167 obese females"
   ],
   "metadata": {
    "collapsed": false
   }
  },
  {
   "cell_type": "markdown",
   "id": "d093fd18-2763-4203-8655-d937176f5b93",
   "metadata": {},
   "source": [
    "## Problem 5\n",
    "\n",
    "Please complete the problem from scratch."
   ]
  },
  {
   "cell_type": "code",
   "execution_count": null,
   "outputs": [],
   "source": [
    "df = pd.read_csv(\"NYC_Air_Quality_data.csv\")"
   ],
   "metadata": {
    "collapsed": false,
    "ExecuteTime": {
     "start_time": "2023-10-24T23:43:13.830374Z"
    }
   }
  },
  {
   "cell_type": "code",
   "execution_count": null,
   "outputs": [],
   "source": [
    "# 5a create new data frame\n",
    "borough_aq = df[df[\"Geo_Type_Name\"] == \"Borough\"]"
   ],
   "metadata": {
    "collapsed": false,
    "ExecuteTime": {
     "start_time": "2023-10-24T23:43:13.831631Z"
    }
   }
  },
  {
   "cell_type": "code",
   "execution_count": null,
   "outputs": [],
   "source": [
    "# 5b count the rows\n",
    "borough_aq.shape[0]"
   ],
   "metadata": {
    "collapsed": false,
    "ExecuteTime": {
     "start_time": "2023-10-24T23:43:13.832963Z"
    }
   }
  },
  {
   "cell_type": "markdown",
   "source": [
    "There are 240 rows"
   ],
   "metadata": {
    "collapsed": false
   }
  },
  {
   "cell_type": "code",
   "execution_count": null,
   "outputs": [],
   "source": [
    "# 5c find count of missing values\n",
    "borough_aq[\"Ozone\"].isnull().sum()"
   ],
   "metadata": {
    "collapsed": false,
    "ExecuteTime": {
     "start_time": "2023-10-24T23:43:13.833805Z"
    }
   }
  },
  {
   "cell_type": "markdown",
   "source": [
    "There is 120 missing Ozone values"
   ],
   "metadata": {
    "collapsed": false
   }
  },
  {
   "cell_type": "code",
   "execution_count": null,
   "outputs": [],
   "source": [
    "# 5d. find the highest pm 2.5 at different time periods\n",
    "borough_aq.groupby(\"Time_Period\")\n",
    "g = borough_aq.groupby(\"Time_Period\", sort=True, as_index=True, dropna=True)\n",
    "print(g[\"PM2.5\"].max())"
   ],
   "metadata": {
    "collapsed": false,
    "ExecuteTime": {
     "start_time": "2023-10-24T23:43:13.835033Z"
    }
   }
  }
 ],
 "metadata": {
  "kernelspec": {
   "display_name": "Python 3 (ipykernel)",
   "language": "python",
   "name": "python3"
  },
  "language_info": {
   "codemirror_mode": {
    "name": "ipython",
    "version": 3
   },
   "file_extension": ".py",
   "mimetype": "text/x-python",
   "name": "python",
   "nbconvert_exporter": "python",
   "pygments_lexer": "ipython3",
   "version": "3.9.17"
  }
 },
 "nbformat": 4,
 "nbformat_minor": 5
}
