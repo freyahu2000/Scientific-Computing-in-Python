{
 "cells": [
  {
   "cell_type": "markdown",
   "id": "ce6c982b-9c6a-424b-aa6f-9b6a11523d79",
   "metadata": {},
   "source": [
    "# Homework 5\n",
    "## Ziyan Hu"
   ]
  },
  {
   "cell_type": "markdown",
   "id": "4d8a260c-6cd7-4276-b4e6-a76989d9991a",
   "metadata": {},
   "source": [
    "## Problem 1"
   ]
  },
  {
   "cell_type": "code",
   "execution_count": 2,
   "id": "2d03fad5",
   "metadata": {
    "ExecuteTime": {
     "end_time": "2023-11-04T04:42:00.720629Z",
     "start_time": "2023-11-04T04:42:00.716170Z"
    }
   },
   "outputs": [],
   "source": [
    "import pandas as pd\n",
    "import numpy as np"
   ]
  },
  {
   "cell_type": "code",
   "execution_count": 70,
   "id": "2289b03d-a3f4-457f-ad06-b392edca5205",
   "metadata": {
    "ExecuteTime": {
     "end_time": "2023-10-26T22:04:13.629384Z",
     "start_time": "2023-10-26T22:04:13.435786Z"
    }
   },
   "outputs": [
    {
     "data": {
      "text/plain": "      id                         listing_url       scrape_id last_scraped  \\\n0   3781   https://www.airbnb.com/rooms/3781  20230916060056   2023-09-16   \n1   5506   https://www.airbnb.com/rooms/5506  20230916060056   2023-09-16   \n2   6695   https://www.airbnb.com/rooms/6695  20230916060056   2023-09-16   \n3   8789   https://www.airbnb.com/rooms/8789  20230916060056   2023-09-16   \n4  10813  https://www.airbnb.com/rooms/10813  20230916060056   2023-09-16   \n\n        source                                               name  \\\n0  city scrape  Rental unit in Boston · ★4.96 · 1 bedroom · 1 ...   \n1  city scrape  Guest suite in Boston · ★4.79 · 1 bedroom · 1 ...   \n2  city scrape  Condo in Boston · ★4.80 · Studio · 2 beds · 1 ...   \n3  city scrape  Rental unit in Boston · ★4.67 · 1 bedroom · 1 ...   \n4  city scrape  Rental unit in Boston · ★5.0 · Studio · 1 bed ...   \n\n                                         description  \\\n0  Fully separate apartment in a two apartment bu...   \n1  Private guest room with private bath, You do n...   \n2  Comfortable,  Fully Equipped private apartment...   \n3  This unit is for sale. There will need to be o...   \n4  Stunning Back Bay furnished studio apartment. ...   \n\n                               neighborhood_overview  \\\n0  Mostly quiet ( no loud music, no crowed sidewa...   \n1  Peaceful, Architecturally interesting, histori...   \n2  Peaceful, Architecturally interesting, histori...   \n3  Beacon Hill is a historic neighborhood filled ...   \n4  Wander around this quintessential neighborhood...   \n\n                                         picture_url  host_id  ...  \\\n0  https://a0.muscache.com/pictures/24670/b2de044...     4804  ...   \n1  https://a0.muscache.com/pictures/miso/Hosting-...     8229  ...   \n2  https://a0.muscache.com/pictures/38ac4797-e7a4...     8229  ...   \n3  https://a0.muscache.com/pictures/miso/Hosting-...    26988  ...   \n4  https://a0.muscache.com/pictures/20b5b9c9-e1f4...    38997  ...   \n\n  review_scores_communication review_scores_location review_scores_value  \\\n0                        4.96                   4.88                4.92   \n1                        4.88                   4.54                4.74   \n2                        4.96                   4.51                4.72   \n3                        4.96                   4.96                4.56   \n4                        5.00                   5.00                4.75   \n\n                      license instant_bookable calculated_host_listings_count  \\\n0                         NaN                f                              1   \n1  Approved by the government                f                             10   \n2                   STR446650                f                             10   \n3                         NaN                f                              8   \n4                         NaN                f                             11   \n\n  calculated_host_listings_count_entire_homes  \\\n0                                           1   \n1                                          10   \n2                                          10   \n3                                           8   \n4                                          11   \n\n  calculated_host_listings_count_private_rooms  \\\n0                                            0   \n1                                            0   \n2                                            0   \n3                                            0   \n4                                            0   \n\n  calculated_host_listings_count_shared_rooms reviews_per_month  \n0                                           0              0.24  \n1                                           0              0.67  \n2                                           0              0.73  \n3                                           0              0.24  \n4                                           0              0.06  \n\n[5 rows x 75 columns]",
      "text/html": "<div>\n<style scoped>\n    .dataframe tbody tr th:only-of-type {\n        vertical-align: middle;\n    }\n\n    .dataframe tbody tr th {\n        vertical-align: top;\n    }\n\n    .dataframe thead th {\n        text-align: right;\n    }\n</style>\n<table border=\"1\" class=\"dataframe\">\n  <thead>\n    <tr style=\"text-align: right;\">\n      <th></th>\n      <th>id</th>\n      <th>listing_url</th>\n      <th>scrape_id</th>\n      <th>last_scraped</th>\n      <th>source</th>\n      <th>name</th>\n      <th>description</th>\n      <th>neighborhood_overview</th>\n      <th>picture_url</th>\n      <th>host_id</th>\n      <th>...</th>\n      <th>review_scores_communication</th>\n      <th>review_scores_location</th>\n      <th>review_scores_value</th>\n      <th>license</th>\n      <th>instant_bookable</th>\n      <th>calculated_host_listings_count</th>\n      <th>calculated_host_listings_count_entire_homes</th>\n      <th>calculated_host_listings_count_private_rooms</th>\n      <th>calculated_host_listings_count_shared_rooms</th>\n      <th>reviews_per_month</th>\n    </tr>\n  </thead>\n  <tbody>\n    <tr>\n      <th>0</th>\n      <td>3781</td>\n      <td>https://www.airbnb.com/rooms/3781</td>\n      <td>20230916060056</td>\n      <td>2023-09-16</td>\n      <td>city scrape</td>\n      <td>Rental unit in Boston · ★4.96 · 1 bedroom · 1 ...</td>\n      <td>Fully separate apartment in a two apartment bu...</td>\n      <td>Mostly quiet ( no loud music, no crowed sidewa...</td>\n      <td>https://a0.muscache.com/pictures/24670/b2de044...</td>\n      <td>4804</td>\n      <td>...</td>\n      <td>4.96</td>\n      <td>4.88</td>\n      <td>4.92</td>\n      <td>NaN</td>\n      <td>f</td>\n      <td>1</td>\n      <td>1</td>\n      <td>0</td>\n      <td>0</td>\n      <td>0.24</td>\n    </tr>\n    <tr>\n      <th>1</th>\n      <td>5506</td>\n      <td>https://www.airbnb.com/rooms/5506</td>\n      <td>20230916060056</td>\n      <td>2023-09-16</td>\n      <td>city scrape</td>\n      <td>Guest suite in Boston · ★4.79 · 1 bedroom · 1 ...</td>\n      <td>Private guest room with private bath, You do n...</td>\n      <td>Peaceful, Architecturally interesting, histori...</td>\n      <td>https://a0.muscache.com/pictures/miso/Hosting-...</td>\n      <td>8229</td>\n      <td>...</td>\n      <td>4.88</td>\n      <td>4.54</td>\n      <td>4.74</td>\n      <td>Approved by the government</td>\n      <td>f</td>\n      <td>10</td>\n      <td>10</td>\n      <td>0</td>\n      <td>0</td>\n      <td>0.67</td>\n    </tr>\n    <tr>\n      <th>2</th>\n      <td>6695</td>\n      <td>https://www.airbnb.com/rooms/6695</td>\n      <td>20230916060056</td>\n      <td>2023-09-16</td>\n      <td>city scrape</td>\n      <td>Condo in Boston · ★4.80 · Studio · 2 beds · 1 ...</td>\n      <td>Comfortable,  Fully Equipped private apartment...</td>\n      <td>Peaceful, Architecturally interesting, histori...</td>\n      <td>https://a0.muscache.com/pictures/38ac4797-e7a4...</td>\n      <td>8229</td>\n      <td>...</td>\n      <td>4.96</td>\n      <td>4.51</td>\n      <td>4.72</td>\n      <td>STR446650</td>\n      <td>f</td>\n      <td>10</td>\n      <td>10</td>\n      <td>0</td>\n      <td>0</td>\n      <td>0.73</td>\n    </tr>\n    <tr>\n      <th>3</th>\n      <td>8789</td>\n      <td>https://www.airbnb.com/rooms/8789</td>\n      <td>20230916060056</td>\n      <td>2023-09-16</td>\n      <td>city scrape</td>\n      <td>Rental unit in Boston · ★4.67 · 1 bedroom · 1 ...</td>\n      <td>This unit is for sale. There will need to be o...</td>\n      <td>Beacon Hill is a historic neighborhood filled ...</td>\n      <td>https://a0.muscache.com/pictures/miso/Hosting-...</td>\n      <td>26988</td>\n      <td>...</td>\n      <td>4.96</td>\n      <td>4.96</td>\n      <td>4.56</td>\n      <td>NaN</td>\n      <td>f</td>\n      <td>8</td>\n      <td>8</td>\n      <td>0</td>\n      <td>0</td>\n      <td>0.24</td>\n    </tr>\n    <tr>\n      <th>4</th>\n      <td>10813</td>\n      <td>https://www.airbnb.com/rooms/10813</td>\n      <td>20230916060056</td>\n      <td>2023-09-16</td>\n      <td>city scrape</td>\n      <td>Rental unit in Boston · ★5.0 · Studio · 1 bed ...</td>\n      <td>Stunning Back Bay furnished studio apartment. ...</td>\n      <td>Wander around this quintessential neighborhood...</td>\n      <td>https://a0.muscache.com/pictures/20b5b9c9-e1f4...</td>\n      <td>38997</td>\n      <td>...</td>\n      <td>5.00</td>\n      <td>5.00</td>\n      <td>4.75</td>\n      <td>NaN</td>\n      <td>f</td>\n      <td>11</td>\n      <td>11</td>\n      <td>0</td>\n      <td>0</td>\n      <td>0.06</td>\n    </tr>\n  </tbody>\n</table>\n<p>5 rows × 75 columns</p>\n</div>"
     },
     "execution_count": 70,
     "metadata": {},
     "output_type": "execute_result"
    }
   ],
   "source": [
    "# read the csv\n",
    "listings_df = pd.read_csv('listings.csv')\n",
    "listings_df.head()"
   ]
  },
  {
   "cell_type": "code",
   "execution_count": 71,
   "id": "95c52875",
   "metadata": {
    "scrolled": true,
    "ExecuteTime": {
     "end_time": "2023-10-26T22:04:14.460385Z",
     "start_time": "2023-10-26T22:04:14.447750Z"
    }
   },
   "outputs": [
    {
     "data": {
      "text/plain": "(4033, 4033)"
     },
     "execution_count": 71,
     "metadata": {},
     "output_type": "execute_result"
    }
   ],
   "source": [
    "#1a\n",
    "entries = len(listings_df)\n",
    "identifiers = listings_df['id'].nunique()\n",
    "entries,identifiers"
   ]
  },
  {
   "cell_type": "markdown",
   "source": [
    "There are 4033 entries and 4033 identifiers for the Boston AirBnB"
   ],
   "metadata": {
    "collapsed": false
   }
  },
  {
   "cell_type": "code",
   "execution_count": 72,
   "id": "08beca7b",
   "metadata": {
    "ExecuteTime": {
     "end_time": "2023-10-26T22:04:15.775663Z",
     "start_time": "2023-10-26T22:04:15.712281Z"
    }
   },
   "outputs": [
    {
     "data": {
      "text/plain": "(184680, 3058)"
     },
     "execution_count": 72,
     "metadata": {},
     "output_type": "execute_result"
    }
   ],
   "source": [
    "#1b\n",
    "reviews_df = pd.read_csv('reviews.csv')\n",
    "reviews_df.head()\n",
    "#the number of reviews are ...\n",
    "num_reviews = len(reviews_df)\n",
    "#unique identifiers of real reviews...\n",
    "unique_id = reviews_df['listing_id'].nunique()\n",
    "num_reviews,unique_id"
   ]
  },
  {
   "cell_type": "markdown",
   "source": [
    "There are 184680 entries in reviews.csv and 3058 unique identifiers."
   ],
   "metadata": {
    "collapsed": false
   }
  },
  {
   "cell_type": "code",
   "execution_count": 73,
   "id": "3d323901",
   "metadata": {
    "ExecuteTime": {
     "end_time": "2023-10-26T22:04:16.533026Z",
     "start_time": "2023-10-26T22:04:16.514416Z"
    }
   },
   "outputs": [
    {
     "data": {
      "text/plain": "0        True\n1        True\n2        True\n3        True\n4        True\n        ...  \n4028    False\n4029     True\n4030    False\n4031    False\n4032    False\nName: id, Length: 4033, dtype: bool"
     },
     "execution_count": 73,
     "metadata": {},
     "output_type": "execute_result"
    }
   ],
   "source": [
    "#1b cont.\n",
    "# ... listings are reviewed in this table (not all 4033)\n",
    "listings_have_reviews = listings_df['id'].isin(reviews_df['listing_id'])\n",
    "listings_have_reviews"
   ]
  },
  {
   "cell_type": "markdown",
   "source": [
    "From the table above we can see that not all the listings have a corresponding review."
   ],
   "metadata": {
    "collapsed": false
   }
  },
  {
   "cell_type": "code",
   "execution_count": 74,
   "outputs": [
    {
     "data": {
      "text/plain": "(185655, 4033, 975)"
     },
     "execution_count": 74,
     "metadata": {},
     "output_type": "execute_result"
    }
   ],
   "source": [
    "#1c\n",
    "# merge 2 data frames\n",
    "merged_df = pd.merge(listings_df, reviews_df,\n",
    "                     how='left',\n",
    "                     left_on='id',\n",
    "                     right_on='listing_id')\n",
    "\n",
    "# Calculate the number of rows in the merged DataFrame\n",
    "num_rows_merged = len(merged_df)\n",
    "\n",
    "# Calculate the number of unique AirBnB IDs in the merged DataFrame\n",
    "unique_ids_merged = merged_df['id'].nunique()\n",
    "\n",
    "# ... rows of listings, ... of those () with NaN review\n",
    "nan_filled_rows = merged_df['listing_id'].isna().sum()\n",
    "\n",
    "num_rows_merged,unique_ids_merged,nan_filled_rows"
   ],
   "metadata": {
    "collapsed": false,
    "ExecuteTime": {
     "end_time": "2023-10-26T22:04:17.940010Z",
     "start_time": "2023-10-26T22:04:16.896916Z"
    }
   }
  },
  {
   "cell_type": "markdown",
   "source": [
    "We have 185655 rows and 4033 unique AirBnB ids and 975 rows were filled in with NaN"
   ],
   "metadata": {
    "collapsed": false
   }
  },
  {
   "cell_type": "code",
   "execution_count": 75,
   "id": "53fc6c44",
   "metadata": {
    "ExecuteTime": {
     "end_time": "2023-10-26T22:04:18.684102Z",
     "start_time": "2023-10-26T22:04:17.944262Z"
    }
   },
   "outputs": [
    {
     "data": {
      "text/plain": "(184680, 3058)"
     },
     "execution_count": 75,
     "metadata": {},
     "output_type": "execute_result"
    }
   ],
   "source": [
    "#1d\n",
    "# Merge the listings and reviews DataFrames using an inner merge\n",
    "inner_merged_df = pd.merge(listings_df, reviews_df, how='inner', left_on='id', right_on='listing_id')\n",
    "\n",
    "# Calculate the number of rows in the inner merged DataFrame\n",
    "num_rows = len(inner_merged_df)\n",
    "\n",
    "# Calculate the number of unique AirBnB IDs in the inner merged DataFrame\n",
    "unique_ids = inner_merged_df['id'].nunique()\n",
    "\n",
    "num_rows, unique_ids\n"
   ]
  },
  {
   "cell_type": "markdown",
   "source": [
    "There are 184680 rows and 3058 unique AirBnB ids"
   ],
   "metadata": {
    "collapsed": false
   }
  },
  {
   "cell_type": "code",
   "execution_count": 4,
   "id": "44b92fb8",
   "metadata": {
    "ExecuteTime": {
     "end_time": "2023-11-04T04:42:48.037472Z",
     "start_time": "2023-11-04T04:42:47.831092Z"
    }
   },
   "outputs": [
    {
     "data": {
      "text/plain": "      id                         listing_url       scrape_id last_scraped  \\\n0   3781   https://www.airbnb.com/rooms/3781  20230916060056   2023-09-16   \n1   5506   https://www.airbnb.com/rooms/5506  20230916060056   2023-09-16   \n2   6695   https://www.airbnb.com/rooms/6695  20230916060056   2023-09-16   \n3   8789   https://www.airbnb.com/rooms/8789  20230916060056   2023-09-16   \n4  10813  https://www.airbnb.com/rooms/10813  20230916060056   2023-09-16   \n\n        source                                               name  \\\n0  city scrape  Rental unit in Boston · ★4.96 · 1 bedroom · 1 ...   \n1  city scrape  Guest suite in Boston · ★4.79 · 1 bedroom · 1 ...   \n2  city scrape  Condo in Boston · ★4.80 · Studio · 2 beds · 1 ...   \n3  city scrape  Rental unit in Boston · ★4.67 · 1 bedroom · 1 ...   \n4  city scrape  Rental unit in Boston · ★5.0 · Studio · 1 bed ...   \n\n                                         description  \\\n0  Fully separate apartment in a two apartment bu...   \n1  Private guest room with private bath, You do n...   \n2  Comfortable,  Fully Equipped private apartment...   \n3  This unit is for sale. There will need to be o...   \n4  Stunning Back Bay furnished studio apartment. ...   \n\n                               neighborhood_overview  \\\n0  Mostly quiet ( no loud music, no crowed sidewa...   \n1  Peaceful, Architecturally interesting, histori...   \n2  Peaceful, Architecturally interesting, histori...   \n3  Beacon Hill is a historic neighborhood filled ...   \n4  Wander around this quintessential neighborhood...   \n\n                                         picture_url  host_id  ...  \\\n0  https://a0.muscache.com/pictures/24670/b2de044...     4804  ...   \n1  https://a0.muscache.com/pictures/miso/Hosting-...     8229  ...   \n2  https://a0.muscache.com/pictures/38ac4797-e7a4...     8229  ...   \n3  https://a0.muscache.com/pictures/miso/Hosting-...    26988  ...   \n4  https://a0.muscache.com/pictures/20b5b9c9-e1f4...    38997  ...   \n\n  review_scores_communication review_scores_location review_scores_value  \\\n0                        4.96                   4.88                4.92   \n1                        4.88                   4.54                4.74   \n2                        4.96                   4.51                4.72   \n3                        4.96                   4.96                4.56   \n4                        5.00                   5.00                4.75   \n\n                      license instant_bookable calculated_host_listings_count  \\\n0                         NaN                f                              1   \n1  Approved by the government                f                             10   \n2                   STR446650                f                             10   \n3                         NaN                f                              8   \n4                         NaN                f                             11   \n\n  calculated_host_listings_count_entire_homes  \\\n0                                           1   \n1                                          10   \n2                                          10   \n3                                           8   \n4                                          11   \n\n  calculated_host_listings_count_private_rooms  \\\n0                                            0   \n1                                            0   \n2                                            0   \n3                                            0   \n4                                            0   \n\n  calculated_host_listings_count_shared_rooms reviews_per_month  \n0                                           0              0.24  \n1                                           0              0.67  \n2                                           0              0.73  \n3                                           0              0.24  \n4                                           0              0.06  \n\n[5 rows x 75 columns]",
      "text/html": "<div>\n<style scoped>\n    .dataframe tbody tr th:only-of-type {\n        vertical-align: middle;\n    }\n\n    .dataframe tbody tr th {\n        vertical-align: top;\n    }\n\n    .dataframe thead th {\n        text-align: right;\n    }\n</style>\n<table border=\"1\" class=\"dataframe\">\n  <thead>\n    <tr style=\"text-align: right;\">\n      <th></th>\n      <th>id</th>\n      <th>listing_url</th>\n      <th>scrape_id</th>\n      <th>last_scraped</th>\n      <th>source</th>\n      <th>name</th>\n      <th>description</th>\n      <th>neighborhood_overview</th>\n      <th>picture_url</th>\n      <th>host_id</th>\n      <th>...</th>\n      <th>review_scores_communication</th>\n      <th>review_scores_location</th>\n      <th>review_scores_value</th>\n      <th>license</th>\n      <th>instant_bookable</th>\n      <th>calculated_host_listings_count</th>\n      <th>calculated_host_listings_count_entire_homes</th>\n      <th>calculated_host_listings_count_private_rooms</th>\n      <th>calculated_host_listings_count_shared_rooms</th>\n      <th>reviews_per_month</th>\n    </tr>\n  </thead>\n  <tbody>\n    <tr>\n      <th>0</th>\n      <td>3781</td>\n      <td>https://www.airbnb.com/rooms/3781</td>\n      <td>20230916060056</td>\n      <td>2023-09-16</td>\n      <td>city scrape</td>\n      <td>Rental unit in Boston · ★4.96 · 1 bedroom · 1 ...</td>\n      <td>Fully separate apartment in a two apartment bu...</td>\n      <td>Mostly quiet ( no loud music, no crowed sidewa...</td>\n      <td>https://a0.muscache.com/pictures/24670/b2de044...</td>\n      <td>4804</td>\n      <td>...</td>\n      <td>4.96</td>\n      <td>4.88</td>\n      <td>4.92</td>\n      <td>NaN</td>\n      <td>f</td>\n      <td>1</td>\n      <td>1</td>\n      <td>0</td>\n      <td>0</td>\n      <td>0.24</td>\n    </tr>\n    <tr>\n      <th>1</th>\n      <td>5506</td>\n      <td>https://www.airbnb.com/rooms/5506</td>\n      <td>20230916060056</td>\n      <td>2023-09-16</td>\n      <td>city scrape</td>\n      <td>Guest suite in Boston · ★4.79 · 1 bedroom · 1 ...</td>\n      <td>Private guest room with private bath, You do n...</td>\n      <td>Peaceful, Architecturally interesting, histori...</td>\n      <td>https://a0.muscache.com/pictures/miso/Hosting-...</td>\n      <td>8229</td>\n      <td>...</td>\n      <td>4.88</td>\n      <td>4.54</td>\n      <td>4.74</td>\n      <td>Approved by the government</td>\n      <td>f</td>\n      <td>10</td>\n      <td>10</td>\n      <td>0</td>\n      <td>0</td>\n      <td>0.67</td>\n    </tr>\n    <tr>\n      <th>2</th>\n      <td>6695</td>\n      <td>https://www.airbnb.com/rooms/6695</td>\n      <td>20230916060056</td>\n      <td>2023-09-16</td>\n      <td>city scrape</td>\n      <td>Condo in Boston · ★4.80 · Studio · 2 beds · 1 ...</td>\n      <td>Comfortable,  Fully Equipped private apartment...</td>\n      <td>Peaceful, Architecturally interesting, histori...</td>\n      <td>https://a0.muscache.com/pictures/38ac4797-e7a4...</td>\n      <td>8229</td>\n      <td>...</td>\n      <td>4.96</td>\n      <td>4.51</td>\n      <td>4.72</td>\n      <td>STR446650</td>\n      <td>f</td>\n      <td>10</td>\n      <td>10</td>\n      <td>0</td>\n      <td>0</td>\n      <td>0.73</td>\n    </tr>\n    <tr>\n      <th>3</th>\n      <td>8789</td>\n      <td>https://www.airbnb.com/rooms/8789</td>\n      <td>20230916060056</td>\n      <td>2023-09-16</td>\n      <td>city scrape</td>\n      <td>Rental unit in Boston · ★4.67 · 1 bedroom · 1 ...</td>\n      <td>This unit is for sale. There will need to be o...</td>\n      <td>Beacon Hill is a historic neighborhood filled ...</td>\n      <td>https://a0.muscache.com/pictures/miso/Hosting-...</td>\n      <td>26988</td>\n      <td>...</td>\n      <td>4.96</td>\n      <td>4.96</td>\n      <td>4.56</td>\n      <td>NaN</td>\n      <td>f</td>\n      <td>8</td>\n      <td>8</td>\n      <td>0</td>\n      <td>0</td>\n      <td>0.24</td>\n    </tr>\n    <tr>\n      <th>4</th>\n      <td>10813</td>\n      <td>https://www.airbnb.com/rooms/10813</td>\n      <td>20230916060056</td>\n      <td>2023-09-16</td>\n      <td>city scrape</td>\n      <td>Rental unit in Boston · ★5.0 · Studio · 1 bed ...</td>\n      <td>Stunning Back Bay furnished studio apartment. ...</td>\n      <td>Wander around this quintessential neighborhood...</td>\n      <td>https://a0.muscache.com/pictures/20b5b9c9-e1f4...</td>\n      <td>38997</td>\n      <td>...</td>\n      <td>5.00</td>\n      <td>5.00</td>\n      <td>4.75</td>\n      <td>NaN</td>\n      <td>f</td>\n      <td>11</td>\n      <td>11</td>\n      <td>0</td>\n      <td>0</td>\n      <td>0.06</td>\n    </tr>\n  </tbody>\n</table>\n<p>5 rows × 75 columns</p>\n</div>"
     },
     "execution_count": 4,
     "metadata": {},
     "output_type": "execute_result"
    }
   ],
   "source": [
    "#1e\n",
    "# read the full listing csv\n",
    "full_listings_df = pd.read_csv('listings.csv.gz',\n",
    "                          compression='gzip')\n",
    "full_listings_df.head()"
   ]
  },
  {
   "cell_type": "code",
   "execution_count": 77,
   "id": "111f35d0",
   "metadata": {
    "ExecuteTime": {
     "end_time": "2023-10-26T22:04:18.993320Z",
     "start_time": "2023-10-26T22:04:18.989406Z"
    }
   },
   "outputs": [
    {
     "data": {
      "text/plain": "1014"
     },
     "execution_count": 77,
     "metadata": {},
     "output_type": "execute_result"
    }
   ],
   "source": [
    "#1e cont. (How many listings by superhost)\n",
    "full_listings_df[full_listings_df['host_is_superhost'] == 't']['id'].nunique()"
   ]
  },
  {
   "cell_type": "code",
   "execution_count": 78,
   "id": "f4c44d92",
   "metadata": {
    "ExecuteTime": {
     "end_time": "2023-10-26T22:04:18.999025Z",
     "start_time": "2023-10-26T22:04:18.995400Z"
    }
   },
   "outputs": [
    {
     "data": {
      "text/plain": "490"
     },
     "execution_count": 78,
     "metadata": {},
     "output_type": "execute_result"
    }
   ],
   "source": [
    "#1e cont. (How many unique superhosts)\n",
    "full_listings_df[full_listings_df['host_is_superhost'] == 't']['host_id'].nunique()"
   ]
  },
  {
   "cell_type": "code",
   "execution_count": 79,
   "id": "caa0c35d",
   "metadata": {
    "ExecuteTime": {
     "end_time": "2023-10-26T22:04:19.550465Z",
     "start_time": "2023-10-26T22:04:19.002281Z"
    }
   },
   "outputs": [
    {
     "data": {
      "text/plain": "22"
     },
     "execution_count": 79,
     "metadata": {},
     "output_type": "execute_result"
    }
   ],
   "source": [
    "#1e cont. (How many superhost with no reviews on any listings)\n",
    "# Merge the superhosts from full_listings_df with the reviews dataframe\n",
    "superhost_and_reviews = pd.merge(full_listings_df[full_listings_df['host_is_superhost'] == 't'],\n",
    "                                 reviews_df,\n",
    "                                 how='left',\n",
    "                                 left_on='id',\n",
    "                                 right_on='listing_id')\n",
    "\n",
    "# Filter superhosts who don't have any reviews (where review 'listing_id' is NaN)\n",
    "superhosts_without_reviews = superhost_and_reviews[\n",
    "    (superhost_and_reviews['host_is_superhost'] == 't') &\n",
    "    (superhost_and_reviews['listing_id'].isna())\n",
    "    ]\n",
    "\n",
    "# Find the number of unique superhosts without reviews\n",
    "unique_superhosts_without_reviews = superhosts_without_reviews['host_id'].nunique()\n",
    "\n",
    "unique_superhosts_without_reviews\n"
   ]
  },
  {
   "cell_type": "markdown",
   "source": [
    "There are 22 of unique superhosts without reviews"
   ],
   "metadata": {
    "collapsed": false
   }
  },
  {
   "cell_type": "markdown",
   "id": "8f6fa77d-32f8-42a9-a8dd-212567efc926",
   "metadata": {},
   "source": [
    "## Problem 2"
   ]
  },
  {
   "cell_type": "code",
   "execution_count": 80,
   "id": "1efdd07e-7886-4649-8c64-6f6f7fdfce12",
   "metadata": {
    "ExecuteTime": {
     "end_time": "2023-10-26T22:04:20.025948Z",
     "start_time": "2023-10-26T22:04:19.747761Z"
    }
   },
   "outputs": [
    {
     "data": {
      "text/plain": "            ride_id  rideable_type     started_at       ended_at  \\\n0  36816E453063E92A   classic_bike  9/12/23 15:56  9/12/23 16:03   \n1  5737471912BBD88F   classic_bike  9/12/23 18:16  9/12/23 18:57   \n2  B014B020DC96CA66  electric_bike  9/11/23 14:28  9/11/23 14:35   \n3  46F26D7BE22C25CA   classic_bike   9/17/23 9:03   9/17/23 9:06   \n4  74872D06EA677BFA   classic_bike   9/16/23 2:42   9/16/23 3:16   \n\n     start_station_name start_station_id       end_station_name  \\\n0      5 Ave & E 103 St          7511.19        E 88 St & 1 Ave   \n1    E 14 St & Avenue B          5736.09  West St & Chambers St   \n2       W 24 St & 7 Ave          6257.03  Lafayette St & E 8 St   \n3  Center Blvd & 51 Ave          6179.07   Vernon Blvd & 50 Ave   \n4      W 52 St & 11 Ave          6926.01    Broadway & Kent Ave   \n\n  end_station_id  start_lat  start_lng    end_lat    end_lng member_casual  \n0        7235.13  40.792197 -73.952660  40.778301 -73.948813        member  \n1        5329.03  40.729387 -73.977724  40.717548 -74.013221        member  \n2        5788.13  40.744876 -73.995299  40.730207 -73.991026        member  \n3        6170.02  40.743366 -73.959607  40.742327 -73.954117        member  \n4        5134.09  40.767419 -73.994259  40.710888 -73.968329        member  ",
      "text/html": "<div>\n<style scoped>\n    .dataframe tbody tr th:only-of-type {\n        vertical-align: middle;\n    }\n\n    .dataframe tbody tr th {\n        vertical-align: top;\n    }\n\n    .dataframe thead th {\n        text-align: right;\n    }\n</style>\n<table border=\"1\" class=\"dataframe\">\n  <thead>\n    <tr style=\"text-align: right;\">\n      <th></th>\n      <th>ride_id</th>\n      <th>rideable_type</th>\n      <th>started_at</th>\n      <th>ended_at</th>\n      <th>start_station_name</th>\n      <th>start_station_id</th>\n      <th>end_station_name</th>\n      <th>end_station_id</th>\n      <th>start_lat</th>\n      <th>start_lng</th>\n      <th>end_lat</th>\n      <th>end_lng</th>\n      <th>member_casual</th>\n    </tr>\n  </thead>\n  <tbody>\n    <tr>\n      <th>0</th>\n      <td>36816E453063E92A</td>\n      <td>classic_bike</td>\n      <td>9/12/23 15:56</td>\n      <td>9/12/23 16:03</td>\n      <td>5 Ave &amp; E 103 St</td>\n      <td>7511.19</td>\n      <td>E 88 St &amp; 1 Ave</td>\n      <td>7235.13</td>\n      <td>40.792197</td>\n      <td>-73.952660</td>\n      <td>40.778301</td>\n      <td>-73.948813</td>\n      <td>member</td>\n    </tr>\n    <tr>\n      <th>1</th>\n      <td>5737471912BBD88F</td>\n      <td>classic_bike</td>\n      <td>9/12/23 18:16</td>\n      <td>9/12/23 18:57</td>\n      <td>E 14 St &amp; Avenue B</td>\n      <td>5736.09</td>\n      <td>West St &amp; Chambers St</td>\n      <td>5329.03</td>\n      <td>40.729387</td>\n      <td>-73.977724</td>\n      <td>40.717548</td>\n      <td>-74.013221</td>\n      <td>member</td>\n    </tr>\n    <tr>\n      <th>2</th>\n      <td>B014B020DC96CA66</td>\n      <td>electric_bike</td>\n      <td>9/11/23 14:28</td>\n      <td>9/11/23 14:35</td>\n      <td>W 24 St &amp; 7 Ave</td>\n      <td>6257.03</td>\n      <td>Lafayette St &amp; E 8 St</td>\n      <td>5788.13</td>\n      <td>40.744876</td>\n      <td>-73.995299</td>\n      <td>40.730207</td>\n      <td>-73.991026</td>\n      <td>member</td>\n    </tr>\n    <tr>\n      <th>3</th>\n      <td>46F26D7BE22C25CA</td>\n      <td>classic_bike</td>\n      <td>9/17/23 9:03</td>\n      <td>9/17/23 9:06</td>\n      <td>Center Blvd &amp; 51 Ave</td>\n      <td>6179.07</td>\n      <td>Vernon Blvd &amp; 50 Ave</td>\n      <td>6170.02</td>\n      <td>40.743366</td>\n      <td>-73.959607</td>\n      <td>40.742327</td>\n      <td>-73.954117</td>\n      <td>member</td>\n    </tr>\n    <tr>\n      <th>4</th>\n      <td>74872D06EA677BFA</td>\n      <td>classic_bike</td>\n      <td>9/16/23 2:42</td>\n      <td>9/16/23 3:16</td>\n      <td>W 52 St &amp; 11 Ave</td>\n      <td>6926.01</td>\n      <td>Broadway &amp; Kent Ave</td>\n      <td>5134.09</td>\n      <td>40.767419</td>\n      <td>-73.994259</td>\n      <td>40.710888</td>\n      <td>-73.968329</td>\n      <td>member</td>\n    </tr>\n  </tbody>\n</table>\n</div>"
     },
     "execution_count": 80,
     "metadata": {},
     "output_type": "execute_result"
    }
   ],
   "source": [
    "citibike = pd.read_csv('citibike_tripdata_2023-09.csv')\n",
    "citibike.head()"
   ]
  },
  {
   "cell_type": "markdown",
   "id": "96904f13-ac52-48f4-a8c4-a2b0b084296f",
   "metadata": {},
   "source": [
    "### (a)"
   ]
  },
  {
   "cell_type": "code",
   "execution_count": 81,
   "id": "062f7273-3259-4417-b798-6eaf51721235",
   "metadata": {
    "ExecuteTime": {
     "end_time": "2023-10-26T22:04:20.290580Z",
     "start_time": "2023-10-26T22:04:20.287376Z"
    }
   },
   "outputs": [
    {
     "data": {
      "text/plain": "100000"
     },
     "execution_count": 81,
     "metadata": {},
     "output_type": "execute_result"
    }
   ],
   "source": [
    "# Calculate the number of rows in the citibike dataframe\n",
    "num_rows = len(citibike)\n",
    "num_rows"
   ]
  },
  {
   "cell_type": "code",
   "execution_count": 82,
   "id": "3205369d-5f13-4fd7-bef3-008df1d3a992",
   "metadata": {
    "ExecuteTime": {
     "end_time": "2023-10-26T22:04:20.493216Z",
     "start_time": "2023-10-26T22:04:20.469020Z"
    }
   },
   "outputs": [
    {
     "data": {
      "text/plain": "1961"
     },
     "execution_count": 82,
     "metadata": {},
     "output_type": "execute_result"
    }
   ],
   "source": [
    "# Calculate the number of unique stations\n",
    "unique_stations = pd.concat([citibike['start_station_name'], citibike['end_station_name']]).nunique()\n",
    "unique_stations"
   ]
  },
  {
   "cell_type": "markdown",
   "source": [
    "There are 100000 citibike rides in this dataset, and 1962 unique stations were visited"
   ],
   "metadata": {
    "collapsed": false
   }
  },
  {
   "cell_type": "markdown",
   "id": "e7422ed6-00c7-4bac-9776-2d1a7ef1065f",
   "metadata": {},
   "source": [
    "### (b)"
   ]
  },
  {
   "cell_type": "code",
   "execution_count": 83,
   "id": "c171dcfa-59a2-4a38-8153-120536f655d7",
   "metadata": {
    "ExecuteTime": {
     "end_time": "2023-10-26T22:04:21.420850Z",
     "start_time": "2023-10-26T22:04:21.361132Z"
    }
   },
   "outputs": [
    {
     "name": "stdout",
     "output_type": "stream",
     "text": [
      "member count \n",
      " rideable_type\n",
      "classic_bike     73945\n",
      "electric_bike     5449\n",
      "dtype: int64\n",
      "\n",
      "casual count \n",
      " rideable_type\n",
      "classic_bike     18989\n",
      "electric_bike     1617\n",
      "dtype: int64\n"
     ]
    }
   ],
   "source": [
    "def count_bike_type(df, member_or_casual):\n",
    "    return df[df['member_casual'] == member_or_casual].shape[0]\n",
    "\n",
    "# Group by rideable_type and apply the function\n",
    "member_count = citibike.groupby('rideable_type').apply(count_bike_type, member_or_casual='member')\n",
    "casual_count = citibike.groupby('rideable_type').apply(count_bike_type, member_or_casual='casual')\n",
    "\n",
    "\n",
    "print('member count \\n', member_count)\n",
    "print()\n",
    "print('casual count \\n', casual_count)"
   ]
  },
  {
   "cell_type": "markdown",
   "source": [
    "Members took 73,945 classic bike rides and 5,449 electric bike rides. On the other hand, casual users took 18,989 classic bike rides and 1,617 electric bike rides in September 2023."
   ],
   "metadata": {
    "collapsed": false
   }
  },
  {
   "cell_type": "markdown",
   "id": "79fd5d60-10cd-435b-a264-0759767dfb53",
   "metadata": {},
   "source": [
    "### (c)"
   ]
  },
  {
   "cell_type": "code",
   "execution_count": 84,
   "id": "a124147f-0a86-4fcf-bf27-1fd39566d05d",
   "metadata": {
    "ExecuteTime": {
     "end_time": "2023-10-26T22:04:34.522596Z",
     "start_time": "2023-10-26T22:04:22.231106Z"
    }
   },
   "outputs": [
    {
     "data": {
      "text/plain": "16.0426"
     },
     "execution_count": 84,
     "metadata": {},
     "output_type": "execute_result"
    }
   ],
   "source": [
    "# Convert started_at and ended_at columns to datetime\n",
    "citibike['started_at'] = pd.to_datetime(citibike['started_at'])\n",
    "citibike['ended_at'] = pd.to_datetime(citibike['ended_at'])\n",
    "\n",
    "# Calculate ride duration in minutes\n",
    "citibike['ride_duration'] = (citibike['ended_at'] - citibike['started_at']).dt.total_seconds() / 60\n",
    "\n",
    "# Calculate the overall mean ride duration\n",
    "overall_mean_duration = citibike['ride_duration'].mean()\n",
    "overall_mean_duration"
   ]
  },
  {
   "cell_type": "code",
   "execution_count": 85,
   "id": "37a50c3c-df44-46f1-9759-40196be3548f",
   "metadata": {
    "ExecuteTime": {
     "end_time": "2023-10-26T22:04:34.588241Z",
     "start_time": "2023-10-26T22:04:34.524901Z"
    }
   },
   "outputs": [
    {
     "data": {
      "text/plain": "(16.119547205543718, 15.030568921596377)"
     },
     "execution_count": 85,
     "metadata": {},
     "output_type": "execute_result"
    }
   ],
   "source": [
    "# Calculate mean ride duration for electric and classic rides\n",
    "mean_ride_time_classic = citibike[citibike['rideable_type'] == 'classic_bike']['ride_duration'].mean()\n",
    "mean_ride_time_electric = citibike[citibike['rideable_type'] == 'electric_bike']['ride_duration'].mean()\n",
    "(mean_ride_time_classic,mean_ride_time_electric)"
   ]
  },
  {
   "cell_type": "markdown",
   "id": "682c140b-d758-4b7b-84f6-7206b8e4f41d",
   "metadata": {},
   "source": [
    "Therefore, mean duration is 16.0426 minutes overall. For electric bike, mean duration is 15.030569 minutes, while for classic bike mean duration is 16.119547 minutes. This difference is probably because electric bikes are faster than classic, so rides of a similar distance would take less time."
   ]
  },
  {
   "cell_type": "markdown",
   "id": "d5967ff2-6792-44a1-9f87-7890d2aa1098",
   "metadata": {},
   "source": [
    "### (d)"
   ]
  },
  {
   "cell_type": "code",
   "execution_count": 86,
   "id": "33bc58ca-9b06-4664-981a-2303a5f48a21",
   "metadata": {
    "ExecuteTime": {
     "end_time": "2023-10-26T22:04:34.588991Z",
     "start_time": "2023-10-26T22:04:34.556134Z"
    }
   },
   "outputs": [
    {
     "name": "stdout",
     "output_type": "stream",
     "text": [
      "105\n"
     ]
    }
   ],
   "source": [
    "# Filter rides that started at \"Amsterdam Ave & W 79 St\" and count unique end stations\n",
    "start_amsterdam = citibike[citibike['start_station_name'] == 'Amsterdam Ave & W 79 St']\n",
    "print(start_amsterdam['end_station_name'].nunique())"
   ]
  },
  {
   "cell_type": "markdown",
   "source": [
    "There are 105 different stations for the rides were started at Amsterdam Ave & 79 St"
   ],
   "metadata": {
    "collapsed": false
   }
  },
  {
   "cell_type": "markdown",
   "id": "36b2eb30-72a4-4e71-b164-613ec68dba36",
   "metadata": {},
   "source": [
    "### (e)"
   ]
  },
  {
   "cell_type": "code",
   "execution_count": 87,
   "id": "977d705f-fb04-400c-965d-2bb8b21a49b9",
   "metadata": {
    "ExecuteTime": {
     "end_time": "2023-10-26T22:04:34.589440Z",
     "start_time": "2023-10-26T22:04:34.584774Z"
    }
   },
   "outputs": [
    {
     "data": {
      "text/plain": "5125"
     },
     "execution_count": 87,
     "metadata": {},
     "output_type": "execute_result"
    }
   ],
   "source": [
    "# Count the number of rides that started and ended at the same station\n",
    "len(citibike[citibike['start_station_name'] == citibike['end_station_name']])"
   ]
  },
  {
   "cell_type": "markdown",
   "source": [
    "There are 5125 rides start and end at the same station"
   ],
   "metadata": {
    "collapsed": false
   }
  },
  {
   "cell_type": "markdown",
   "id": "31ff6f4c-eb3a-4269-b1b1-6f77ffc7fc4d",
   "metadata": {},
   "source": [
    "### (f)"
   ]
  },
  {
   "cell_type": "code",
   "execution_count": 88,
   "id": "a60f682d-9483-4cb1-9dee-5b7c9ad00395",
   "metadata": {
    "ExecuteTime": {
     "end_time": "2023-10-26T22:04:36.129475Z",
     "start_time": "2023-10-26T22:04:34.588489Z"
    }
   },
   "outputs": [],
   "source": [
    "# Define the function to calculate the Euclidean distance\n",
    "def distance(start_lat, start_lng, end_lat, end_lng):\n",
    "    lat_diff = start_lat - end_lat\n",
    "    lng_diff = start_lng - end_lng\n",
    "    return (lat_diff**2 + lng_diff**2)**0.5\n",
    "\n",
    "# Apply the distance function to the dataframe\n",
    "citibike['ride_distance'] = citibike.apply(lambda row: distance(row['start_lat'], row['start_lng'], row['end_lat'], row['end_lng']), axis=1)"
   ]
  },
  {
   "cell_type": "code",
   "execution_count": 89,
   "id": "a9deddfc-8b93-43f5-b2be-7b5f3d1d1c24",
   "metadata": {
    "ExecuteTime": {
     "end_time": "2023-10-26T22:04:36.145193Z",
     "start_time": "2023-10-26T22:04:36.128837Z"
    }
   },
   "outputs": [
    {
     "name": "stdout",
     "output_type": "stream",
     "text": [
      "member_casual\n",
      "casual    0.021927\n",
      "member    0.019058\n",
      "Name: ride_distance, dtype: float64\n"
     ]
    }
   ],
   "source": [
    "print(citibike.groupby('member_casual')['ride_distance'].mean())"
   ]
  },
  {
   "cell_type": "markdown",
   "id": "01d9db3b-5755-464d-9aa9-b73a8aeddea9",
   "metadata": {},
   "source": [
    "Casual users ride longer distances on average."
   ]
  }
 ],
 "metadata": {
  "kernelspec": {
   "display_name": "Python 3 (ipykernel)",
   "language": "python",
   "name": "python3"
  },
  "language_info": {
   "codemirror_mode": {
    "name": "ipython",
    "version": 3
   },
   "file_extension": ".py",
   "mimetype": "text/x-python",
   "name": "python",
   "nbconvert_exporter": "python",
   "pygments_lexer": "ipython3",
   "version": "3.9.13"
  }
 },
 "nbformat": 4,
 "nbformat_minor": 5
}
