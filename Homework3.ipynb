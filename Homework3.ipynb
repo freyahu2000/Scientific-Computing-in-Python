{
 "cells": [
  {
   "cell_type": "markdown",
   "id": "c42f24e1-4e95-43cc-8cfd-5c368ae39a52",
   "metadata": {},
   "source": [
    "# Homework 3\n",
    "## Ziyan Hu"
   ]
  },
  {
   "cell_type": "markdown",
   "id": "67d0c73d-bb26-4f11-8a27-8e8f3440d4d6",
   "metadata": {},
   "source": [
    "## Problem 1\n",
    "Read in and explore the data set on the rainfall in Seattle for each day in the year 2014.\n",
    "The variable of interest is PRCP.\n",
    "\n",
    "a. Show the length of the rainfall record, and the values in the first 5 days of each month\n",
    "\n",
    "b. Report how many rainy days were there in Seattle in the year 2014\n",
    "\n",
    "c. Report the average precipitation on those rainy days\n",
    "\n",
    "d. Report the maximum amount of rain seen on any day during the year 2014\n",
    "\n",
    "e. Report how many days were there with more than half an inch of rain\n",
    "\n",
    "f. Report the average precipitation on days with more than a half an inch of rain"
   ]
  },
  {
   "cell_type": "code",
   "execution_count": 65,
   "outputs": [
    {
     "name": "stdout",
     "output_type": "stream",
     "text": [
      "Total days recorded: 365\n",
      "Rainfall values for the first 5 days of each month:\n",
      "          DATE  PRCP\n",
      "0   2014-01-01     0\n",
      "1   2014-01-02    41\n",
      "2   2014-01-03    15\n",
      "3   2014-01-04     0\n",
      "4   2014-01-05     0\n",
      "31  2014-02-01    20\n",
      "32  2014-02-02     0\n",
      "33  2014-02-03     0\n",
      "34  2014-02-04     0\n",
      "35  2014-02-05     0\n",
      "59  2014-03-01     5\n",
      "60  2014-03-02   191\n",
      "61  2014-03-03   107\n",
      "62  2014-03-04   165\n",
      "63  2014-03-05   467\n",
      "90  2014-04-01     0\n",
      "91  2014-04-02     0\n",
      "92  2014-04-03    25\n",
      "93  2014-04-04     0\n",
      "94  2014-04-05    46\n",
      "120 2014-05-01     0\n",
      "121 2014-05-02     0\n",
      "122 2014-05-03   333\n",
      "123 2014-05-04   160\n",
      "124 2014-05-05    51\n",
      "151 2014-06-01     0\n",
      "152 2014-06-02     0\n",
      "153 2014-06-03     0\n",
      "154 2014-06-04     0\n",
      "155 2014-06-05     0\n",
      "181 2014-07-01     0\n",
      "182 2014-07-02     0\n",
      "183 2014-07-03     0\n",
      "184 2014-07-04     0\n",
      "185 2014-07-05     0\n",
      "212 2014-08-01     0\n",
      "213 2014-08-02     5\n",
      "214 2014-08-03     0\n",
      "215 2014-08-04     0\n",
      "216 2014-08-05     0\n",
      "243 2014-09-01     0\n",
      "244 2014-09-02    30\n",
      "245 2014-09-03     0\n",
      "246 2014-09-04     0\n",
      "247 2014-09-05     0\n",
      "273 2014-10-01     0\n",
      "274 2014-10-02     0\n",
      "275 2014-10-03     0\n",
      "276 2014-10-04     0\n",
      "277 2014-10-05     0\n",
      "304 2014-11-01     0\n",
      "305 2014-11-02    18\n",
      "306 2014-11-03   109\n",
      "307 2014-11-04    41\n",
      "308 2014-11-05    48\n",
      "334 2014-12-01     0\n",
      "335 2014-12-02     0\n",
      "336 2014-12-03     0\n",
      "337 2014-12-04     8\n",
      "338 2014-12-05    30\n",
      "\n",
      "Number of rainy days in 2014: 150\n",
      "Average precipitation on rainy days: 82.19\n",
      "Maximum amount of rain in a single day in 2014: 467 units\n",
      "Number of days with more than half an inch of rain: 150 days\n",
      "Average precipitation on days with more than half an inch of rain: 82.19 units\n"
     ]
    }
   ],
   "source": [
    "import pandas as pd\n",
    "\n",
    "# Load the dataset\n",
    "seattle_rainfall = pd.read_csv('Seattle2014.csv')\n",
    "\n",
    "# Convert 'DATE' column to datetime format\n",
    "seattle_rainfall['DATE'] = pd.to_datetime(seattle_rainfall['DATE'], format='%Y%m%d')\n",
    "\n",
    "# 1a. Show the length of the rainfall record\n",
    "length_of_record = len(seattle_rainfall)\n",
    "print(f\"Total days recorded: {length_of_record}\")\n",
    "\n",
    "# Values in the first 5 days of each month\n",
    "seattle_rainfall['DAY'] = seattle_rainfall['DATE'].dt.day\n",
    "first_5_days_each_month = seattle_rainfall[seattle_rainfall['DAY'] <= 5]\n",
    "print(\"Rainfall values for the first 5 days of each month:\")\n",
    "print(first_5_days_each_month[['DATE', 'PRCP']])\n",
    "\n",
    "# 1b. Report how many rainy days there were in Seattle in the year 2014\n",
    "rainy_days_count = seattle_rainfall[seattle_rainfall['PRCP'] > 0].shape[0]  # return the number of rows\n",
    "print(f\"\\nNumber of rainy days in 2014: {rainy_days_count}\")\n",
    "\n",
    "# 1c. Report the average precipitation on those rainy days\n",
    "average_precipitation_rainy_days = seattle_rainfall[seattle_rainfall['PRCP'] > 0]['PRCP'].mean() # calculate the mean value\n",
    "print(f\"Average precipitation on rainy days: {average_precipitation_rainy_days:.2f}\")\n",
    "\n",
    "# 1d. Report the maximum amount of rain seen on any day during the year 2014\n",
    "max_rain_single_day = seattle_rainfall['PRCP'].max()  # extract the max value\n",
    "print(f\"Maximum amount of rain in a single day in 2014: {max_rain_single_day} units\")\n",
    "\n",
    "# 1e. Report how many days were there with more than half an inch of rain\n",
    "days_with_more_than_half_inch = seattle_rainfall[seattle_rainfall['PRCP'] > 0.5].shape[0] # return the number of rows\n",
    "print(f\"Number of days with more than half an inch of rain: {days_with_more_than_half_inch} days\")\n",
    "\n",
    "# 1f. Report the average precipitation on days with more than half an inch of rain\n",
    "avg_precip_more_than_half_inch = seattle_rainfall[seattle_rainfall['PRCP'] > 0.5]['PRCP'].mean() # caluculate the mean values\n",
    "print(f\"Average precipitation on days with more than half an inch of rain: {avg_precip_more_than_half_inch:.2f} units\")"
   ],
   "metadata": {
    "collapsed": false,
    "ExecuteTime": {
     "end_time": "2023-10-10T17:37:22.390265Z",
     "start_time": "2023-10-10T17:37:22.312342Z"
    }
   }
  },
  {
   "cell_type": "markdown",
   "source": [
    "## Problem 2\n",
    "Given an input matrix with each row representing a point / vector, implement a function to calculate its pairwise distance matrix (the element at (i,j) is the Euclidean distance be- tween the points at row i and row j of the input matrix).\n",
    "Please implement this function in both of the following two methods: (1) using for loops to calculate each element in the pairwise distance matrix and (2) using NumPy with broad- casting and vectorization.\n",
    "Next, please randomly generate ten 100 × 100 input matrices by np.random.rand, and call each of the two functions to get pairwise distance matrices for all of them. Please (1) compare the time needed to execute these two functions to see which one is faster and (2) check that they give the same results."
   ],
   "metadata": {
    "collapsed": false
   }
  },
  {
   "cell_type": "code",
   "execution_count": 66,
   "outputs": [],
   "source": [
    "import numpy as np\n",
    "\n",
    "def distance_matrix_py(points):\n",
    "    # Get the number of points (n) and the number of dimensions (p)\n",
    "    n, p = len(points), len(points[0])\n",
    "\n",
    "    # Initialize a matrix to hold the pairwise distances\n",
    "    distance = np.zeros((n, n))\n",
    "\n",
    "    # Calculate the pairwise distances using nested loops\n",
    "    for i in range(n):\n",
    "        for j in range(n):\n",
    "            distance[i, j] = np.sqrt(np.sum((points[i] - points[j]) ** 2))\n",
    "    return distance\n",
    "\n",
    "\n",
    "def distance_matrix_np(points):\n",
    "    # Compute pairwise distances using matrix multiplication and broadcasting\n",
    "    dists = np.sqrt(-2 * np.dot(points, points.T) +\n",
    "                    np.sum(points**2, axis=1)[:, np.newaxis] +\n",
    "                    np.sum(points**2, axis=1)[np.newaxis,:])\n",
    "\n",
    "    # Set the diagonal to 0 (distance of a point to itself should be 0)\n",
    "    dists[np.arange(len(points)), np.arange(len(points))] = 0\n",
    "\n",
    "    return dists"
   ],
   "metadata": {
    "collapsed": false,
    "ExecuteTime": {
     "end_time": "2023-10-10T17:37:32.114692Z",
     "start_time": "2023-10-10T17:37:32.112720Z"
    }
   }
  },
  {
   "cell_type": "code",
   "execution_count": 67,
   "outputs": [],
   "source": [
    "# Some test cases\n",
    "np.random.seed(0)\n",
    "all_points = [np.random.rand(100, 100) for _ in range(10)] # Generate 10 random matrices (100x100)"
   ],
   "metadata": {
    "collapsed": false,
    "ExecuteTime": {
     "end_time": "2023-10-10T17:37:35.989180Z",
     "start_time": "2023-10-10T17:37:35.974958Z"
    }
   }
  },
  {
   "cell_type": "code",
   "execution_count": 68,
   "outputs": [
    {
     "name": "stdout",
     "output_type": "stream",
     "text": [
      "CPU times: user 623 ms, sys: 5.89 ms, total: 629 ms\n",
      "Wall time: 658 ms\n"
     ]
    }
   ],
   "source": [
    "%%time\n",
    "distances_py = [distance_matrix_py(points) for points in all_points]"
   ],
   "metadata": {
    "collapsed": false,
    "ExecuteTime": {
     "end_time": "2023-10-10T17:37:37.649680Z",
     "start_time": "2023-10-10T17:37:36.987964Z"
    }
   }
  },
  {
   "cell_type": "code",
   "execution_count": 69,
   "outputs": [
    {
     "name": "stdout",
     "output_type": "stream",
     "text": [
      "CPU times: user 44.2 ms, sys: 27.1 ms, total: 71.3 ms\n",
      "Wall time: 23.7 ms\n"
     ]
    },
    {
     "name": "stderr",
     "output_type": "stream",
     "text": [
      "/var/folders/1z/p270y46s7hs6c18v1gp211xh0000gn/T/ipykernel_33125/1638891064.py:19: RuntimeWarning: invalid value encountered in sqrt\n",
      "  dists = np.sqrt(-2 * np.dot(points, points.T) +\n"
     ]
    }
   ],
   "source": [
    "%%time\n",
    "distances_np = [distance_matrix_np(points) for points in all_points]"
   ],
   "metadata": {
    "collapsed": false,
    "ExecuteTime": {
     "end_time": "2023-10-10T17:37:38.945525Z",
     "start_time": "2023-10-10T17:37:38.913969Z"
    }
   }
  },
  {
   "cell_type": "markdown",
   "source": [
    "Therefore, the cpu times in for loop calculation is significantly longer than NumPy method's cpu times"
   ],
   "metadata": {
    "collapsed": false
   }
  },
  {
   "cell_type": "code",
   "execution_count": 70,
   "outputs": [
    {
     "data": {
      "text/plain": "[True, True, True, True, True, True, True, True, True, True]"
     },
     "execution_count": 70,
     "metadata": {},
     "output_type": "execute_result"
    }
   ],
   "source": [
    "# Set tolerances for comparison\n",
    "rtol = 1e-5 # relative tolerance\n",
    "atol = 1e-8 # absolute tolerance\n",
    "\n",
    "results_match = []\n",
    "\n",
    "# Compare the matrices obtained by the two methods\n",
    "for distance_py, distance_np in zip(distances_py, distances_np):\n",
    "    results_match.append(np.allclose(distance_py, distance_np, rtol=rtol, atol=atol))\n",
    "\n",
    "# The results_match list now contains True/False values indicating whether the corresponding matrices are equal within the defined tolerances\n",
    "results_match"
   ],
   "metadata": {
    "collapsed": false,
    "ExecuteTime": {
     "end_time": "2023-10-10T17:37:45.840228Z",
     "start_time": "2023-10-10T17:37:45.815049Z"
    }
   }
  },
  {
   "cell_type": "markdown",
   "source": [
    "Therefore, method 1 and 2 give the same results under the tolerance we set"
   ],
   "metadata": {
    "collapsed": false
   }
  },
  {
   "cell_type": "markdown",
   "source": [
    "## Problem 3\n",
    "Implement a function to conduct the naive K-means clustering described at here. The inputs of your function should be (1) a matrix with each row representing a point / vector to cluster and (2) an integer k representing the number of clusters. The outputs of your function should be (1) a vector, the length of which is equal to the number of rows of the input matrix and each element of which is a number among 0, 1, ..., k − 1 to indicate which cluster the point / vector is eventually assigned to and (2) a matrix with each row representing the centroid of each cluster."
   ],
   "metadata": {
    "collapsed": false
   }
  },
  {
   "cell_type": "code",
   "execution_count": 71,
   "outputs": [],
   "source": [
    "import numpy as np\n",
    "\n",
    "def euclidean_distance(x, y):\n",
    "    return (((x - y) **2).sum())** 0.5\n",
    "\n",
    "def kmeans(x, k, tol=1e-5):\n",
    "\n",
    "    # Get the number of data points\n",
    "    n = x.shape[0]\n",
    "\n",
    "    # Initialize an array to store the cluster assignment for each data point\n",
    "    cluster = np.array([-1 for _ in range(n)])\n",
    "\n",
    "    # Set a random seed for reproducibility\n",
    "    np.random.seed(0)\n",
    "\n",
    "    # Randomly select k data points as the initial centroids\n",
    "    centroids = x[np.random.choice(n, size=k, replace=False)]\n",
    "\n",
    "    # Initialize the last_centroids to be infinitely far away\n",
    "    last_centroids = centroids + float('inf')\n",
    "\n",
    "    # Continue until the change in centroid position is less than the tolerance\n",
    "    while np.abs(centroids - last_centroids).max() > tol:\n",
    "\n",
    "        # Store the current centroids to check for convergence later\n",
    "        last_centroids = centroids\n",
    "\n",
    "        # Assign each data point to the closest centroid\n",
    "        for i in range(n):\n",
    "            # Compute distances from x[i] to each centroid\n",
    "            distances = [euclidean_distance(x[i], centroid) for centroid in centroids]\n",
    "            # Assign x[i] to the cluster whose centroid is closest\n",
    "            cluster[i] = np.argmin(distances)\n",
    "\n",
    "        # Update the centroids based on the mean of the points assigned to them\n",
    "        for j in range(k):\n",
    "            # Get all points assigned to cluster j\n",
    "            cluster_j = x[cluster==j]\n",
    "            # Update centroid j to be the mean of all points in cluster j\n",
    "            centroids[j] = cluster_j.mean(axis=0)\n",
    "\n",
    "    return cluster, centroids\n"
   ],
   "metadata": {
    "collapsed": false,
    "ExecuteTime": {
     "end_time": "2023-10-10T17:37:55.067256Z",
     "start_time": "2023-10-10T17:37:55.054022Z"
    }
   }
  },
  {
   "cell_type": "code",
   "execution_count": 72,
   "outputs": [
    {
     "data": {
      "text/plain": "(array([0, 0, 0, 1, 1, 1, 1, 1, 2, 2, 2, 2, 2, 2, 2]),\n array([[6.45377021e-01, 5.81508333e-01, 6.10691875e-01, 6.55183701e-01],\n        [4.41400810e+01, 7.22391602e+01, 3.43716214e+01, 6.91314646e+01],\n        [5.78775884e+03, 4.30297850e+03, 4.45133705e+03, 3.33277741e+03]]))"
     },
     "execution_count": 72,
     "metadata": {},
     "output_type": "execute_result"
    }
   ],
   "source": [
    "# Some test case\n",
    "np.random.seed(0)\n",
    "small = np.random.rand(3, 4)\n",
    "medium = np.random.rand(5, 4) * 100\n",
    "large = np.random.rand(7, 4) * 10000\n",
    "x = np.concatenate((small, medium, large), axis=0)\n",
    "kmeans(x, k=3)"
   ],
   "metadata": {
    "collapsed": false,
    "ExecuteTime": {
     "end_time": "2023-10-10T17:37:55.986706Z",
     "start_time": "2023-10-10T17:37:55.979513Z"
    }
   }
  },
  {
   "cell_type": "markdown",
   "source": [
    "## Problem 4\n",
    "Read the first section of this Wikipedia page to learn about the Gram–Schmidt process.\n",
    "Follow the formulas at the beginning of this section to implement a function that can con- duct the Gram–Schmidt process for a bunch of vectors. The input of your function should be a matrix with each column representing a vector. The output of your function should be a matrix of the same size as input, where the columns of the output matrix are vectors orthogonalized by the Gram–Schmidt process.\n",
    "We will test your function by comparing your results with the Q matrix given by NumPy’s built-in QR decomposition function np.linalg.qr on some randomly generated inputs (see here to understand their relationship). You are encouraged to first do these tests by yourself to verify the correctness of your codes (you may find the signs of some columns of your output matrix are different from those of the Q matrix, but that is fine)."
   ],
   "metadata": {
    "collapsed": false
   }
  },
  {
   "cell_type": "code",
   "execution_count": 73,
   "outputs": [],
   "source": [
    "import copy\n",
    "\n",
    "def proj_v_to_u(v, u):\n",
    "    # Compute the scalar projection of v onto u using the dot product\n",
    "    scalar_proj = np.dot(v, u) / np.dot(u, u)\n",
    "\n",
    "    # Multiply u by the scalar projection to get the vector projection\n",
    "    proj = scalar_proj * u\n",
    "\n",
    "    return proj\n",
    "\n",
    "def gram_schmidt_process(V):\n",
    "\n",
    "    n, k = len(V), len(V[0])\n",
    "    assert n >= k\n",
    "\n",
    "    U = copy.deepcopy(V)\n",
    "\n",
    "    for i in range(k):\n",
    "        for j in range(i):\n",
    "            # Subtract the projection of U[i] onto U[j] from U[i]\n",
    "            U[:,i] = U[:,i] - proj_v_to_u(U[:,i], U[:,j])\n",
    "\n",
    "    for i in range(k):\n",
    "        # Normalize U[i]\n",
    "        U[:,i] /= np.linalg.norm(U[:,i])\n",
    "\n",
    "    return U"
   ],
   "metadata": {
    "collapsed": false,
    "ExecuteTime": {
     "end_time": "2023-10-10T17:37:57.918551Z",
     "start_time": "2023-10-10T17:37:57.911810Z"
    }
   }
  },
  {
   "cell_type": "code",
   "execution_count": 74,
   "outputs": [],
   "source": [
    "# Some test cases\n",
    "np.random.seed(0)\n",
    "for n in range(1, 8):\n",
    "    for k in range(1, n + 1):\n",
    "        for _ in range(10):\n",
    "            V = np.random.rand(n, k)\n",
    "            U = gram_schmidt_process(V)\n",
    "            Q = np.linalg.qr(V)[0]\n",
    "            for i in range(k):\n",
    "                assert np.abs(U[:, i] - Q[:, i]).max() < 0.001 or np.abs(U[:, i] + Q[:, i]).max() < 0.001"
   ],
   "metadata": {
    "collapsed": false,
    "ExecuteTime": {
     "end_time": "2023-10-10T17:37:59.939239Z",
     "start_time": "2023-10-10T17:37:59.892123Z"
    }
   }
  },
  {
   "cell_type": "markdown",
   "source": [
    "## Problem 5\n",
    "Implement a function to calculate the determinant of an n × n matrix without directly using NumPy’s built-in determinant calculation function np.linalg.det.\n",
    "We will test your function by comparing your results with the results given by np.linalg.det on some randomly generated n × n matrices. You are encouraged to first do these tests by yourself to verify the correctness of your codes."
   ],
   "metadata": {
    "collapsed": false
   }
  },
  {
   "cell_type": "code",
   "execution_count": 75,
   "outputs": [],
   "source": [
    "def get_submatrix_excluding_row_i_col_j(matrix, i, j):\n",
    "    assert 0 <= i < len(matrix) and 0 <= j < len(matrix[0])\n",
    "\n",
    "    upper_left = matrix[:i, :j]\n",
    "    upper_right = matrix[:i, (j + 1):]\n",
    "    lower_left = matrix[(i + 1):, :j]\n",
    "    lower_right = matrix[(i + 1):, (j + 1):]\n",
    "\n",
    "    upper = np.concatenate((upper_left, upper_right), axis=1)\n",
    "    lower = np.concatenate((lower_left, lower_right), axis=1)\n",
    "\n",
    "    # Concatenate upper and lower vertically to form the submatrix\n",
    "    submatrix = np.concatenate((upper, lower), axis=0)\n",
    "\n",
    "    return submatrix\n",
    "\n",
    "\n",
    "def get_determinant(matrix):\n",
    "    n = len(matrix)\n",
    "\n",
    "    if n == 1:\n",
    "        return matrix[0][0]\n",
    "\n",
    "    determinant = 0\n",
    "    for j in range(n):\n",
    "        # Get the submatrix excluding the first row and j-th column\n",
    "        submatrix = get_submatrix_excluding_row_i_col_j(matrix, 0, j)\n",
    "\n",
    "        # Calculate the determinant using recursion and the Laplace expansion\n",
    "        # The (-1) ** j term accounts for the alternating signs in the expansion\n",
    "        determinant += (-1) ** j * matrix[0, j] * get_determinant(submatrix)\n",
    "\n",
    "    return determinant"
   ],
   "metadata": {
    "collapsed": false,
    "ExecuteTime": {
     "end_time": "2023-10-10T17:38:01.596889Z",
     "start_time": "2023-10-10T17:38:01.589329Z"
    }
   }
  },
  {
   "cell_type": "code",
   "execution_count": 76,
   "outputs": [],
   "source": [
    "# Some test cases\n",
    "np.random.seed(0)\n",
    "for n in range(1, 8):\n",
    "    for _ in range(10):\n",
    "        matrix = np.random.randint(low=0, high=10, size=(n, n))\n",
    "        assert abs(get_determinant(matrix) - np.linalg.det(matrix)) < 0.001"
   ],
   "metadata": {
    "collapsed": false,
    "ExecuteTime": {
     "end_time": "2023-10-10T17:38:03.198342Z",
     "start_time": "2023-10-10T17:38:02.389061Z"
    }
   }
  }
 ],
 "metadata": {
  "kernelspec": {
   "display_name": "Python 3 (ipykernel)",
   "language": "python",
   "name": "python3"
  },
  "language_info": {
   "codemirror_mode": {
    "name": "ipython",
    "version": 3
   },
   "file_extension": ".py",
   "mimetype": "text/x-python",
   "name": "python",
   "nbconvert_exporter": "python",
   "pygments_lexer": "ipython3",
   "version": "3.9.13"
  }
 },
 "nbformat": 4,
 "nbformat_minor": 5
}
