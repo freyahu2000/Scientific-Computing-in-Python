{
 "cells": [
  {
   "cell_type": "markdown",
   "source": [
    "# Homework 10\n",
    "## Ziyan Hu"
   ],
   "metadata": {
    "collapsed": false
   }
  },
  {
   "cell_type": "code",
   "execution_count": 1,
   "outputs": [],
   "source": [
    "import numpy as np\n",
    "import math"
   ],
   "metadata": {
    "collapsed": false,
    "ExecuteTime": {
     "end_time": "2023-12-03T06:06:53.988827Z",
     "start_time": "2023-12-03T06:06:53.954497Z"
    }
   }
  },
  {
   "cell_type": "markdown",
   "source": [
    "## Q1\n",
    "### 1.1"
   ],
   "metadata": {
    "collapsed": false
   }
  },
  {
   "cell_type": "code",
   "execution_count": 5,
   "metadata": {
    "collapsed": true,
    "ExecuteTime": {
     "end_time": "2023-12-03T06:09:20.435729Z",
     "start_time": "2023-12-03T06:09:20.399217Z"
    }
   },
   "outputs": [],
   "source": [
    "# define the function\n",
    "def f(x):\n",
    "    return -np.exp(-x) * np.sin(x)\n",
    "# implement the bisection method\n",
    "def bisect(f, a, b, tol):\n",
    "    fa = f(a)\n",
    "    fb = f(b)\n",
    "    if fa * fb > 0:\n",
    "        print(\"No root found on interval\")\n",
    "        return None\n",
    "    n = int(np.ceil(np.log2((b - a) / tol)))\n",
    "    for i in range(n):\n",
    "        c = (a + b) / 2\n",
    "        fc = f(c)\n",
    "        if fa * fc < 0:\n",
    "            b = c\n",
    "            fb = fc\n",
    "        else:\n",
    "            a = c\n",
    "            fa = fc\n",
    "    return (a + b)/2"
   ]
  },
  {
   "cell_type": "code",
   "execution_count": 4,
   "outputs": [
    {
     "name": "stdout",
     "output_type": "stream",
     "text": [
      "Minimum occurs at x = 1.50000000\n"
     ]
    }
   ],
   "source": [
    "# test on interval [0,1.5]\n",
    "a = 0\n",
    "b = 1.5\n",
    "tol = 1e-10\n",
    "\n",
    "xmin = bisect(f, a, b, tol)\n",
    "print(f\"Minimum occurs at x = {xmin:.8f}\")"
   ],
   "metadata": {
    "collapsed": false,
    "ExecuteTime": {
     "end_time": "2023-12-03T06:09:10.793298Z",
     "start_time": "2023-12-03T06:09:10.785736Z"
    }
   }
  },
  {
   "cell_type": "markdown",
   "source": [
    "### 1.2"
   ],
   "metadata": {
    "collapsed": false
   }
  },
  {
   "cell_type": "code",
   "execution_count": 6,
   "outputs": [],
   "source": [
    "# implement the golden section search\n",
    "def golden(f, a, b, tol):\n",
    "    golden_ratio = (math.sqrt(5) + 1) / 2\n",
    "    c = b - (b - a) / golden_ratio\n",
    "    d = a + (b - a) / golden_ratio\n",
    "    fc = f(c)\n",
    "    fd = f(d)\n",
    "    while abs(c - d) > tol:\n",
    "        if fc < fd:\n",
    "            b = d\n",
    "            d = c\n",
    "            fd = fc\n",
    "            c = b - (b - a) / golden_ratio\n",
    "            fc = f(c)\n",
    "        else:\n",
    "            a = c\n",
    "            c = d\n",
    "            fc = fd\n",
    "            d = a + (b - a) / golden_ratio\n",
    "            fd = f(d)\n",
    "    return (b + a) / 2"
   ],
   "metadata": {
    "collapsed": false,
    "ExecuteTime": {
     "end_time": "2023-12-03T06:10:49.847862Z",
     "start_time": "2023-12-03T06:10:49.842636Z"
    }
   }
  },
  {
   "cell_type": "code",
   "execution_count": 7,
   "outputs": [
    {
     "name": "stdout",
     "output_type": "stream",
     "text": [
      "Minimum occurs at x = 0.78539817\n"
     ]
    }
   ],
   "source": [
    "# test on interval [0,1.5]\n",
    "a = 0\n",
    "b = 1.5\n",
    "tol = 1e-10\n",
    "\n",
    "xmin = golden(f, a, b, tol)\n",
    "print(f\"Minimum occurs at x = {xmin:.8f}\")"
   ],
   "metadata": {
    "collapsed": false,
    "ExecuteTime": {
     "end_time": "2023-12-03T06:11:09.527728Z",
     "start_time": "2023-12-03T06:11:09.524395Z"
    }
   }
  },
  {
   "cell_type": "markdown",
   "source": [
    "## Q2\n",
    "### 2.1"
   ],
   "metadata": {
    "collapsed": false
   }
  },
  {
   "cell_type": "code",
   "execution_count": 8,
   "outputs": [],
   "source": [
    "# generate the data\n",
    "n = 10000\n",
    "beta = np.array([3, -7, 2, -4, 1, 3, 8, -6, -1, 4])\n",
    "\n",
    "np.random.seed(42)\n",
    "z = np.random.normal(size=(n, beta.shape[0] - 1))\n",
    "designmat = np.column_stack((np.array([1]*z.shape[0]), z))\n",
    "\n",
    "pvec = np.exp(designmat @ beta) / (1 + np.exp(designmat @ beta))\n",
    "y = 1 * (np.random.uniform(size=n) < pvec)\n",
    "\n",
    "# sigmoid function\n",
    "def sigmoid(z):\n",
    "    return 1 / (1 + np.exp(-z))\n",
    "\n",
    "# negative log likelihood loss\n",
    "def NLL(beta, X, y):\n",
    "    p = sigmoid(X @ beta)\n",
    "    return -np.mean((y*np.log(p)) + ((1-y)*np.log(1-p)))\n",
    "\n",
    "# gradient of NLL\n",
    "def grad(beta, X, y):\n",
    "    p = sigmoid(X @ beta)\n",
    "    return X.T @ (p - y) / len(y)"
   ],
   "metadata": {
    "collapsed": false,
    "ExecuteTime": {
     "end_time": "2023-12-03T06:21:08.557366Z",
     "start_time": "2023-12-03T06:21:08.517386Z"
    }
   }
  },
  {
   "cell_type": "code",
   "execution_count": 11,
   "outputs": [
    {
     "name": "stdout",
     "output_type": "stream",
     "text": [
      "Learning rate: 0.001\n",
      "[ 0.08007082 -0.17447287  0.04223791 -0.09964986  0.02495252  0.07238329\n",
      "  0.19159068 -0.15010739 -0.02576574  0.100258  ]\n",
      "Learning rate: 0.002\n",
      "[ 0.14233889 -0.31268688  0.07657699 -0.17813558  0.04434332  0.12986045\n",
      "  0.34439024 -0.26820064 -0.04630693  0.17978053]\n",
      "Learning rate: 0.003\n",
      "[ 0.1926357  -0.42621827  0.10544735 -0.24228269  0.06005639  0.17712179\n",
      "  0.47059991 -0.36467407 -0.0632689   0.24505224]\n",
      "Learning rate: 0.004\n",
      "[ 0.23471044 -0.522572    0.13045008 -0.2964858   0.07327456  0.21724905\n",
      "  0.57818474 -0.44621149 -0.07771213  0.30034115]\n",
      "Learning rate: 0.005\n",
      "[ 0.27089892 -0.6064548   0.15259768 -0.34349189  0.08471688  0.25219464\n",
      "  0.67216843 -0.51697567 -0.09030323  0.34836099]\n"
     ]
    }
   ],
   "source": [
    "# run gradient descent\n",
    "betas = [np.zeros(10)]\n",
    "lr_values = [0.001, 0.002, 0.003, 0.004, 0.005]\n",
    "for lr in lr_values:\n",
    "    print(f\"Learning rate: {lr}\")\n",
    "    beta = np.zeros(10)\n",
    "    for i in range(1000):\n",
    "        beta = beta - lr*grad(beta, designmat, y)\n",
    "        betas.append(beta)\n",
    "    print(beta)"
   ],
   "metadata": {
    "collapsed": false,
    "ExecuteTime": {
     "end_time": "2023-12-03T06:24:27.966873Z",
     "start_time": "2023-12-03T06:24:23.162493Z"
    }
   }
  },
  {
   "cell_type": "markdown",
   "source": [
    "## 2.2"
   ],
   "metadata": {
    "collapsed": false
   }
  },
  {
   "cell_type": "code",
   "execution_count": 9,
   "outputs": [],
   "source": [
    "# hessian of NLL\n",
    "def hessian(beta, X, y):\n",
    "    p = sigmoid(X @ beta)\n",
    "    W = np.diag(p * (1 - p))\n",
    "    return (1/len(y)) * (X.T @ W @ X)\n",
    "\n",
    "# newton method iterates newton steps til convergence\n",
    "def newton(beta, X, y, tol=1e-8):\n",
    "    for i in range(1000):\n",
    "        beta = beta - np.linalg.inv(hessian(beta,X,y)) @ grad(beta, X, y)\n",
    "        if np.linalg.norm(grad(beta, X, y)) < tol:\n",
    "            break\n",
    "    return beta"
   ],
   "metadata": {
    "collapsed": false,
    "ExecuteTime": {
     "end_time": "2023-12-03T06:24:07.989522Z",
     "start_time": "2023-12-03T06:24:07.988077Z"
    }
   }
  },
  {
   "cell_type": "code",
   "execution_count": 10,
   "outputs": [
    {
     "name": "stdout",
     "output_type": "stream",
     "text": [
      "[ 2.92514733 -7.03574735  1.96212515 -3.89908532  0.94898396  2.99687945\n",
      "  7.85276471 -6.01988302 -1.01650936  3.97249099]\n"
     ]
    }
   ],
   "source": [
    "# find coefficients\n",
    "beta0 = np.zeros(10)\n",
    "beta_newton = newton(beta0, designmat, y, tol=1e-10)\n",
    "print(beta_newton)"
   ],
   "metadata": {
    "collapsed": false,
    "ExecuteTime": {
     "end_time": "2023-12-03T06:24:16.239237Z",
     "start_time": "2023-12-03T06:24:10.698048Z"
    }
   }
  }
 ],
 "metadata": {
  "kernelspec": {
   "display_name": "Python 3",
   "language": "python",
   "name": "python3"
  },
  "language_info": {
   "codemirror_mode": {
    "name": "ipython",
    "version": 2
   },
   "file_extension": ".py",
   "mimetype": "text/x-python",
   "name": "python",
   "nbconvert_exporter": "python",
   "pygments_lexer": "ipython2",
   "version": "2.7.6"
  }
 },
 "nbformat": 4,
 "nbformat_minor": 0
}
